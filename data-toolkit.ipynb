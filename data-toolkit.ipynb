{
  "nbformat": 4,
  "nbformat_minor": 0,
  "metadata": {
    "colab": {
      "provenance": []
    },
    "kernelspec": {
      "name": "python3",
      "display_name": "Python 3"
    },
    "language_info": {
      "name": "python"
    }
  },
  "cells": [
    {
      "cell_type": "markdown",
      "source": [
        "Question 1. What is numpy, why is it widely used in Python?\n",
        "\n",
        "\n",
        "Answer-NumPy (Numerical Python) is a core Python library for numerical computing. It provides:\n",
        "\n",
        "Efficient arrays and matrices (faster than native lists).\n",
        "\n",
        "Vectorized operations (no need for loops).\n",
        "\n",
        "Performance benefits due to C-based implementation.\n",
        "\n",
        "Broadcasting for operations on arrays of different shapes.\n",
        "\n",
        "Extensive functions for math, stats, and linear algebra.\n",
        "\n",
        "Integration with libraries like Pandas, SciPy, and TensorFlow.\n",
        "\n",
        "\n",
        "It’s essential for data science, machine learning, and scientific computing."
      ],
      "metadata": {
        "id": "pEK20YQlFV_x"
      }
    },
    {
      "cell_type": "markdown",
      "source": [
        "Question 2. How does broadcasting work in Numpy?\n",
        "\n",
        "Answer-Broadcasting in NumPy allows operations on arrays of different shapes without explicitly reshaping them. NumPy automatically expands arrays so they can align and perform element-wise operations efficiently.\n",
        "\n",
        "Rules for Broadcasting:\n",
        "\n",
        "1. Match from the right: Compare dimensions from right to left.\n",
        "\n",
        "\n",
        "2. Dimensions Compatibility: Two dimensions are compatible if:\n",
        "\n",
        "They are equal, or\n",
        "\n",
        "One of them is 1, which will expand to match the other dimension.\n",
        "\n",
        "\n",
        "Example:"
      ],
      "metadata": {
        "id": "74BfGSWWGmoQ"
      }
    },
    {
      "cell_type": "code",
      "source": [
        "import numpy as np\n",
        "\n",
        "# Array shapes: (3, 1) and (1, 4)\n",
        "a = np.array([[1], [2], [3]])\n",
        "b = np.array([4, 5, 6, 7])\n",
        "\n",
        "# Result shape: (3, 4) after broadcasting\n",
        "result = a + b\n",
        "print(result)"
      ],
      "metadata": {
        "colab": {
          "base_uri": "https://localhost:8080/"
        },
        "id": "hjU8yiyFHZls",
        "outputId": "d6d2a7cc-0c73-4dbe-c1db-4883cecb262f"
      },
      "execution_count": null,
      "outputs": [
        {
          "output_type": "stream",
          "name": "stdout",
          "text": [
            "[[ 5  6  7  8]\n",
            " [ 6  7  8  9]\n",
            " [ 7  8  9 10]]\n"
          ]
        }
      ]
    },
    {
      "cell_type": "markdown",
      "source": [
        "How it Works:\n",
        "\n",
        "a (3x1) expands its second dimension to match b (1x4).\n",
        "\n",
        "The result is a 3x4 array where the addition happens element-wise.\n",
        "\n",
        "\n",
        "Broadcasting makes operations more efficient by avoiding the need for manual reshaping or looping."
      ],
      "metadata": {
        "id": "VpJpzgkhHZ4l"
      }
    },
    {
      "cell_type": "markdown",
      "source": [
        "\n",
        "Question 3. What is pandas dataframe?\n",
        "\n",
        "\n",
        "Answer-A Pandas DataFrame is a two-dimensional, labeled data structure in Python used for organizing and analyzing data. It is similar to a table or spreadsheet.\n",
        "\n",
        "Key Features:\n",
        "\n",
        "1. Rows and Columns: Data is organized in rows (index) and columns (labels).\n",
        "\n",
        "\n",
        "2. Heterogeneous Data: Columns can store different data types (e.g., integers, strings, floats).\n",
        "\n",
        "\n",
        "3. Indexing: Supports custom row and column indices.\n",
        "\n",
        "\n",
        "4. Data Manipulation: Provides functions for filtering, grouping, merging, and reshaping data.\n",
        "\n",
        "\n",
        "\n",
        "Example:"
      ],
      "metadata": {
        "id": "hKFZjcwfHnTl"
      }
    },
    {
      "cell_type": "code",
      "source": [
        "import pandas as pd\n",
        "\n",
        "# Create a DataFrame from a dictionary\n",
        "data = {'Name': ['Alice', 'Bob'], 'Age': [25, 30], 'City': ['NY', 'LA']}\n",
        "df = pd.DataFrame(data)\n",
        "\n",
        "print(df)"
      ],
      "metadata": {
        "colab": {
          "base_uri": "https://localhost:8080/"
        },
        "id": "z9mglGkoIF-K",
        "outputId": "1462e65b-d60e-4815-e691-ba97cf5ed3a6"
      },
      "execution_count": null,
      "outputs": [
        {
          "output_type": "stream",
          "name": "stdout",
          "text": [
            "    Name  Age City\n",
            "0  Alice   25   NY\n",
            "1    Bob   30   LA\n"
          ]
        }
      ]
    },
    {
      "cell_type": "markdown",
      "source": [
        "Uses:\n",
        "\n",
        "Data analysis and cleaning.\n",
        "\n",
        "Importing/exporting data (CSV, Excel, SQL).\n",
        "\n",
        "Data visualization and exploration."
      ],
      "metadata": {
        "id": "n7rVVjXdIGR8"
      }
    },
    {
      "cell_type": "markdown",
      "source": [
        "Question 4. Explain the Uses of the groupby() method in Pandas?\n",
        "\n",
        "\n",
        "Answer-The groupby() method in Pandas is used to group data based on certain criteria and then perform aggregate operations on those groups. It follows a split-apply-combine process:\n",
        "\n",
        "1. Split: Divide the data into groups based on one or more keys.\n",
        "\n",
        "\n",
        "2. Apply: Apply a function (e.g., sum, mean) to each group.\n",
        "\n",
        "\n",
        "3. Combine: Combine the results into a new DataFrame or series\n",
        "\n",
        "Example:"
      ],
      "metadata": {
        "id": "3ULxywS0INrV"
      }
    },
    {
      "cell_type": "code",
      "source": [
        "import pandas as pd\n",
        "\n",
        "# Sample DataFrame\n",
        "data = {'Category': ['A', 'B', 'A', 'B', 'A'],\n",
        "        'Values': [10, 20, 15, 25, 10]}\n",
        "\n",
        "df = pd.DataFrame(data)\n",
        "\n",
        "# Group by 'Category' and sum the 'Values'\n",
        "grouped = df.groupby('Category')['Values'].sum()\n",
        "\n",
        "print(grouped)"
      ],
      "metadata": {
        "colab": {
          "base_uri": "https://localhost:8080/"
        },
        "id": "RDN5lYn3JljY",
        "outputId": "4e152371-83b2-40fa-f833-f4349c5f6761"
      },
      "execution_count": null,
      "outputs": [
        {
          "output_type": "stream",
          "name": "stdout",
          "text": [
            "Category\n",
            "A    35\n",
            "B    45\n",
            "Name: Values, dtype: int64\n"
          ]
        }
      ]
    },
    {
      "cell_type": "code",
      "source": [
        "import seaborn as sns\n",
        "import matplotlib.pyplot as plt\n",
        "\n",
        "# Load sample dataset\n",
        "tips = sns.load_dataset('tips')\n",
        "\n",
        "# Create a scatter plot with a regression line\n",
        "sns.lmplot(x='total_bill', y='tip', hue='sex', data=tips)\n",
        "\n",
        "plt.show()"
      ],
      "metadata": {
        "colab": {
          "base_uri": "https://localhost:8080/",
          "height": 264
        },
        "id": "__yYO_2UK9rZ",
        "outputId": "7bf50f05-54b6-4058-e272-cac597145e4b"
      },
      "execution_count": null,
      "outputs": [
        {
          "output_type": "display_data",
          "data": {
            "text/plain": [
              "<Figure size 600.25x500 with 1 Axes>"
            ],
            "image/png": "[encoded data removed]"
          },
          "metadata": {}
        }
      ]
    },
    {
      "cell_type": "markdown",
      "source": [
        "Question 5. Why is seaborn statistical visualization?\n",
        "\n",
        "Answer-Seaborn is preferred for statistical visualization in Python due to its ability to create informative, visually attractive, and easy-to-interpret plots with minimal code. It is built on top of Matplotlib and integrates closely with Pandas DataFrames.\n",
        "\n",
        "Key Reasons Seaborn is Preferred:\n",
        "\n",
        "1. Simplified Syntax:\n",
        "\n",
        "Easier to create complex statistical plots compared to Matplotlib.\n",
        "\n",
        "\n",
        "\n",
        "2. Built-in Statistical Functions:\n",
        "\n",
        "Seaborn provides functions like boxplot(), violinplot(), regplot(), and heatmap() for visualizing distributions, relationships, and correlations.\n",
        "\n",
        "\n",
        "\n",
        "3. Automatic Aggregation and Estimation:\n",
        "\n",
        "Functions like barplot() and pointplot() automatically compute statistical summaries (e.g., mean and confidence intervals).\n",
        "\n",
        "\n",
        "\n",
        "4. Beautiful Default Themes:\n",
        "\n",
        "Offers aesthetically pleasing default color palettes and styles, enhancing readability.\n",
        "\n",
        "\n",
        "\n",
        "5. Faceting and Multi-Plot Grids:\n",
        "\n",
        "Tools like FacetGrid and pairplot() enable the creation of subplots based on categories for multi-dimensional analysis.\n",
        "\n",
        "\n",
        "\n",
        "6. Integration with Pandas:\n",
        "\n",
        "Directly works with DataFrames, allowing easy plotting of columns without manual data extraction.\n",
        "\n",
        "\n",
        "\n",
        "7. Handles Complex Data Relationships:\n",
        "\n",
        "Visualizes relationships (e.g., scatter plots with regression lines) and categorical data distributions effectively.\n",
        "\n",
        "\n",
        "\n",
        "\n",
        "Example of Seaborn Plot:"
      ],
      "metadata": {
        "id": "XEwyK-hHJpwV"
      }
    },
    {
      "cell_type": "markdown",
      "source": [
        "Conclusion:\n",
        "\n",
        "Seaborn is favored for statistical visualization because it simplifies the process of creating complex, meaningful plots while enhancing visual aesthetics and providing built-in statistical tools."
      ],
      "metadata": {
        "id": "LTeO6B-YLAY3"
      }
    },
    {
      "cell_type": "markdown",
      "source": [
        "Question 6. What are the difference between numpy arrays and python list?\n",
        "\n",
        "Answer-Differences Between NumPy Arrays and Python Lists:\n",
        "\n",
        "1. Data Type:\n",
        "\n",
        "NumPy Arrays: Homogeneous (all elements are the same type).\n",
        "\n",
        "Python Lists: Heterogeneous (elements can be different types).\n",
        "\n",
        "\n",
        "\n",
        "2. Performance:\n",
        "\n",
        "NumPy Arrays: Faster due to C-based implementation.\n",
        "\n",
        "Python Lists: Slower for large datasets.\n",
        "\n",
        "\n",
        "\n",
        "3. Memory Efficiency:\n",
        "\n",
        "NumPy Arrays: More memory-efficient.\n",
        "\n",
        "Python Lists: Higher memory usage.\n",
        "\n",
        "\n",
        "\n",
        "4. Operations:\n",
        "\n",
        "NumPy Arrays: Supports vectorized operations (element-wise).\n",
        "\n",
        "Python Lists: Requires explicit loops for element-wise operations.\n",
        "\n",
        "\n",
        "\n",
        "5. Multidimensional Data:\n",
        "\n",
        "NumPy Arrays: Supports multi-dimensional arrays (e.g., matrices).\n",
        "\n",
        "Python Lists: Limited to nested lists.\n",
        "\n",
        "\n",
        "\n",
        "6. Indexing:\n",
        "\n",
        "NumPy Arrays: Advanced indexing (slicing, boolean indexing).\n",
        "\n",
        "Python Lists: Basic indexing.\n",
        "\n",
        "\n",
        "\n",
        "\n",
        "Summary:\n",
        "\n",
        "Use NumPy arrays for numerical tasks requiring speed and efficiency.\n",
        "\n",
        "Use Python lists for general-purpose, mixed-type data handling."
      ],
      "metadata": {
        "id": "TSaByCvkLJoL"
      }
    },
    {
      "cell_type": "markdown",
      "source": [
        " Question 7. What is a heatmap, and when should it be used?\n",
        "\n",
        "\n",
        "Answer-A heatmap is a data visualization technique that represents data in a matrix format using color gradients to indicate the values of individual elements. The color intensity corresponds to the magnitude of the data, making it easy to spot patterns, trends, and outliers.\n",
        "\n",
        "When to Use a Heatmap:\n",
        "\n",
        "1. Correlation Matrices: To visualize the relationships between multiple variables in a dataset.\n",
        "\n",
        "\n",
        "2. Geospatial Data: To show intensity values across different geographic regions (e.g., population density, weather patterns).\n",
        "\n",
        "\n",
        "3. Data Patterns: To highlight areas of higher or lower concentration in large datasets.\n",
        "\n",
        "\n",
        "4. Performance Data: In fields like finance, to display how variables change over time (e.g., stock prices).\n",
        "\n",
        "\n",
        "5. Comparative Analysis: To compare multiple categories across different conditions or groups.\n",
        "\n",
        "\n",
        "\n",
        "Example Use Case:\n",
        "\n",
        "In Pandas, you can create a heatmap for a correlation matrix of a DataFrame:"
      ],
      "metadata": {
        "id": "VXVG-GofL-5b"
      }
    },
    {
      "cell_type": "code",
      "source": [
        "\n",
        "import seaborn as sns\n",
        "import matplotlib.pyplot as plt\n",
        "import pandas as pd\n",
        "\n",
        "# Example dataset with missing values\n",
        "data = pd.DataFrame({\n",
        "    'A': [1, 2, 3, None, 5],\n",
        "    'B': [6, None, 8, 9, 10],\n",
        "    'C': [11, 12, None, 14, 15]\n",
        "})\n",
        "\n",
        "# Create a heatmap to visualize missing data\n",
        "sns.heatmap(data.isnull(), cbar=False, cmap='Blues', annot=True)\n",
        "plt.show()"
      ],
      "metadata": {
        "colab": {
          "base_uri": "https://localhost:8080/",
          "height": 243
        },
        "id": "VisfP8K8Mvg_",
        "outputId": "a2877eff-e1b0-4f57-a2f5-8e03dee41c79"
      },
      "execution_count": null,
      "outputs": [
        {
          "output_type": "display_data",
          "data": {
            "text/plain": [
              "<Figure size 640x480 with 1 Axes>"
            ],
            "image/png": "[encoded data removed]"
          },
          "metadata": {}
        }
      ]
    },
    {
      "cell_type": "markdown",
      "source": [
        "Explanation:\n",
        "\n",
        "data.isnull() creates a DataFrame of True and False values (indicating missing data).\n",
        "\n",
        "Heatmap: The missing values are displayed in a different color (True values are highlighted).\n",
        "\n",
        "This helps you quickly identify where data is missing and potentially decide how to handle it (e.g., imputation or removal)."
      ],
      "metadata": {
        "id": "CYY3AW2UM5Dy"
      }
    },
    {
      "cell_type": "markdown",
      "source": [
        "Question 8. What does term 'Victorized operation' used in Numpy?\n",
        "\n",
        "Answer-In NumPy, vectorized operations refer to the ability to perform element-wise operations on entire arrays (or subsets of arrays) without the need for explicit loops. These operations are optimized and run much faster compared to using Python loops, as they leverage low-level implementations (like C or Fortran) under the hood.\n",
        "\n",
        "Key Characteristics of Vectorized Operations:\n",
        "\n",
        "1. Element-wise calculations: Operations are applied to each element in the array automatically.\n",
        "\n",
        "\n",
        "2. Efficiency: Avoids the need for Python loops, making computations faster and more memory-efficient.\n",
        "\n",
        "\n",
        "3. Readability: Code is more concise and easier to read compared to using loops.\n",
        "\n",
        "\n",
        "\n",
        "Example:"
      ],
      "metadata": {
        "id": "UNW0zmHSM_T4"
      }
    },
    {
      "cell_type": "code",
      "source": [
        "\n",
        "import numpy as np\n",
        "\n",
        "# Create a NumPy array\n",
        "arr = np.array([1, 2, 3, 4, 5])\n",
        "\n",
        "# Vectorized operation: Add 10 to each element\n",
        "result = arr + 10  # No need for a loop\n",
        "\n",
        "print(result)  # Output: [11 12 13 14 15]"
      ],
      "metadata": {
        "colab": {
          "base_uri": "https://localhost:8080/"
        },
        "id": "CO30gG7DOIbq",
        "outputId": "7e74b4c5-5b93-4c2e-f4c3-ebb9f55bbb2f"
      },
      "execution_count": null,
      "outputs": [
        {
          "output_type": "stream",
          "name": "stdout",
          "text": [
            "[11 12 13 14 15]\n"
          ]
        }
      ]
    },
    {
      "cell_type": "markdown",
      "source": [
        " Question 9. How does matplotlib differ from plotly?\n",
        "\n",
        "\n",
        "Answer-Matplotlib and Plotly are both popular libraries for data visualization in Python, but they have key differences:\n",
        "\n",
        "1. Interactivity:\n",
        "\n",
        "Matplotlib: Primarily for static visualizations. Interactivity is limited, although it can be extended using additional tools (e.g., mplcursors, matplotlib widgets).\n",
        "\n",
        "Plotly: Designed for interactive visualizations. You can zoom, hover, and explore the data dynamically in the plot without needing additional tools.\n",
        "\n",
        "\n",
        "2. Complexity:\n",
        "\n",
        "Matplotlib: More flexible and customizable but requires more code to create complex interactive plots or highly polished visuals.\n",
        "\n",
        "Plotly: Easier for creating interactive, web-based plots with less code. It also includes features like automatic legends and tooltips out of the box.\n",
        "\n",
        "\n",
        "3. Output:\n",
        "\n",
        "Matplotlib: Produces static images (e.g., PNG, SVG) by default, which are ideal for publications or printing.\n",
        "\n",
        "Plotly: Generates interactive web-based plots (e.g., HTML) which can be embedded in web applications or shared via browsers.\n",
        "\n",
        "\n",
        "4. Customization:\n",
        "\n",
        "Matplotlib: Offers detailed control over every aspect of a plot, making it ideal for highly customized visualizations.\n",
        "\n",
        "Plotly: While customizable, it is more suited for rapid, interactive visualizations. Customization is slightly less fine-grained compared to Matplotlib.\n",
        "\n",
        "\n",
        "5. Ease of Use:\n",
        "\n",
        "Matplotlib: Requires more setup and lines of code to generate complex plots, but gives full control over visualization.\n",
        "\n",
        "Plotly: More user-friendly and allows for quick creation of interactive plots with less code.\n",
        "\n",
        "\n",
        "6. Integration:\n",
        "\n",
        "Matplotlib: Well integrated into the Python ecosystem, works seamlessly with other libraries like Pandas, Seaborn, and SciPy.\n",
        "\n",
        "Plotly: Also integrates well with Pandas, and it has a strong focus on web-based visualization. It works especially well with Dash for building interactive web applications.\n",
        "\n",
        "\n",
        "Example Comparison:\n",
        "\n",
        "Matplotlib (Static Plot):"
      ],
      "metadata": {
        "id": "F8PDXtHuONfH"
      }
    },
    {
      "cell_type": "code",
      "source": [
        "\n",
        "import matplotlib.pyplot as plt\n",
        "\n",
        "x = [1, 2, 3, 4, 5]\n",
        "y = [2, 4, 6, 8, 10]\n",
        "\n",
        "plt.plot(x, y)\n",
        "plt.xlabel('X axis')\n",
        "plt.ylabel('Y axis')\n",
        "plt.title('Matplotlib Example')\n",
        "plt.show()"
      ],
      "metadata": {
        "colab": {
          "base_uri": "https://localhost:8080/",
          "height": 492
        },
        "id": "ZeyEiwBgPdJG",
        "outputId": "c9cda735-53e1-49f2-e434-41a31aa90093"
      },
      "execution_count": null,
      "outputs": [
        {
          "output_type": "display_data",
          "data": {
            "text/plain": [
              "<Figure size 640x480 with 1 Axes>"
            ],
            "image/png": "[encoded data removed]"
          },
          "metadata": {}
        }
      ]
    },
    {
      "cell_type": "markdown",
      "source": [
        "Plotly (Interactive Plot):"
      ],
      "metadata": {
        "id": "9h_MK5Y6Pe1W"
      }
    },
    {
      "cell_type": "code",
      "source": [
        "\n",
        "import plotly.graph_objects as go\n",
        "\n",
        "x = [1, 2, 3, 4, 5]\n",
        "y = [2, 4, 6, 8, 10]\n",
        "\n",
        "fig = go.Figure(data=go.Scatter(x=x, y=y, mode='lines'))\n",
        "fig.update_layout(title='Plotly Example', xaxis_title='X axis', yaxis_title='Y axis')\n",
        "fig.show()"
      ],
      "metadata": {
        "colab": {
          "base_uri": "https://localhost:8080/",
          "height": 542
        },
        "id": "Gk0YyJVHP7bU",
        "outputId": "cb9affa3-0b83-400a-dcf6-36720ccc9ee9"
      },
      "execution_count": null,
      "outputs": [
        {
          "output_type": "display_data",
          "data": {
            "text/html": [
              "<html>\n",
              "<head><meta charset=\"utf-8\" /></head>\n",
              "<body>\n",
              "    <div>            <script src=\"https://cdnjs.cloudflare.com/ajax/libs/mathjax/2.7.5/MathJax.js?config=TeX-AMS-MML_SVG\"></script><script type=\"text/javascript\">if (window.MathJax && window.MathJax.Hub && window.MathJax.Hub.Config) {window.MathJax.Hub.Config({SVG: {font: \"STIX-Web\"}});}</script>                <script type=\"text/javascript\">window.PlotlyConfig = {MathJaxConfig: 'local'};</script>\n",
              "        <script charset=\"utf-8\" src=\"https://cdn.plot.ly/plotly-2.35.2.min.js\"></script>                <div id=\"04570924-6814-4f84-9c1a-3f99f155df64\" class=\"plotly-graph-div\" style=\"height:525px; width:100%;\"></div>            <script type=\"text/javascript\">                                    window.PLOTLYENV=window.PLOTLYENV || {};                                    if (document.getElementById(\"04570924-6814-4f84-9c1a-3f99f155df64\")) {                    Plotly.newPlot(                        \"04570924-6814-4f84-9c1a-3f99f155df64\",                        [{\"mode\":\"lines\",\"x\":[1,2,3,4,5],\"y\":[2,4,6,8,10],\"type\":\"scatter\"}],                        {\"template\":{\"data\":{\"histogram2dcontour\":[{\"type\":\"histogram2dcontour\",\"colorbar\":{\"outlinewidth\":0,\"ticks\":\"\"},\"colorscale\":[[0.0,\"#0d0887\"],[0.1111111111111111,\"#46039f\"],[0.2222222222222222,\"#7201a8\"],[0.3333333333333333,\"#9c179e\"],[0.4444444444444444,\"#bd3786\"],[0.5555555555555556,\"#d8576b\"],[0.6666666666666666,\"#ed7953\"],[0.7777777777777778,\"#fb9f3a\"],[0.8888888888888888,\"#fdca26\"],[1.0,\"#f0f921\"]]}],\"choropleth\":[{\"type\":\"choropleth\",\"colorbar\":{\"outlinewidth\":0,\"ticks\":\"\"}}],\"histogram2d\":[{\"type\":\"histogram2d\",\"colorbar\":{\"outlinewidth\":0,\"ticks\":\"\"},\"colorscale\":[[0.0,\"#0d0887\"],[0.1111111111111111,\"#46039f\"],[0.2222222222222222,\"#7201a8\"],[0.3333333333333333,\"#9c179e\"],[0.4444444444444444,\"#bd3786\"],[0.5555555555555556,\"#d8576b\"],[0.6666666666666666,\"#ed7953\"],[0.7777777777777778,\"#fb9f3a\"],[0.8888888888888888,\"#fdca26\"],[1.0,\"#f0f921\"]]}],\"heatmap\":[{\"type\":\"heatmap\",\"colorbar\":{\"outlinewidth\":0,\"ticks\":\"\"},\"colorscale\":[[0.0,\"#0d0887\"],[0.1111111111111111,\"#46039f\"],[0.2222222222222222,\"#7201a8\"],[0.3333333333333333,\"#9c179e\"],[0.4444444444444444,\"#bd3786\"],[0.5555555555555556,\"#d8576b\"],[0.6666666666666666,\"#ed7953\"],[0.7777777777777778,\"#fb9f3a\"],[0.8888888888888888,\"#fdca26\"],[1.0,\"#f0f921\"]]}],\"heatmapgl\":[{\"type\":\"heatmapgl\",\"colorbar\":{\"outlinewidth\":0,\"ticks\":\"\"},\"colorscale\":[[0.0,\"#0d0887\"],[0.1111111111111111,\"#46039f\"],[0.2222222222222222,\"#7201a8\"],[0.3333333333333333,\"#9c179e\"],[0.4444444444444444,\"#bd3786\"],[0.5555555555555556,\"#d8576b\"],[0.6666666666666666,\"#ed7953\"],[0.7777777777777778,\"#fb9f3a\"],[0.8888888888888888,\"#fdca26\"],[1.0,\"#f0f921\"]]}],\"contourcarpet\":[{\"type\":\"contourcarpet\",\"colorbar\":{\"outlinewidth\":0,\"ticks\":\"\"}}],\"contour\":[{\"type\":\"contour\",\"colorbar\":{\"outlinewidth\":0,\"ticks\":\"\"},\"colorscale\":[[0.0,\"#0d0887\"],[0.1111111111111111,\"#46039f\"],[0.2222222222222222,\"#7201a8\"],[0.3333333333333333,\"#9c179e\"],[0.4444444444444444,\"#bd3786\"],[0.5555555555555556,\"#d8576b\"],[0.6666666666666666,\"#ed7953\"],[0.7777777777777778,\"#fb9f3a\"],[0.8888888888888888,\"#fdca26\"],[1.0,\"#f0f921\"]]}],\"surface\":[{\"type\":\"surface\",\"colorbar\":{\"outlinewidth\":0,\"ticks\":\"\"},\"colorscale\":[[0.0,\"#0d0887\"],[0.1111111111111111,\"#46039f\"],[0.2222222222222222,\"#7201a8\"],[0.3333333333333333,\"#9c179e\"],[0.4444444444444444,\"#bd3786\"],[0.5555555555555556,\"#d8576b\"],[0.6666666666666666,\"#ed7953\"],[0.7777777777777778,\"#fb9f3a\"],[0.8888888888888888,\"#fdca26\"],[1.0,\"#f0f921\"]]}],\"mesh3d\":[{\"type\":\"mesh3d\",\"colorbar\":{\"outlinewidth\":0,\"ticks\":\"\"}}],\"scatter\":[{\"fillpattern\":{\"fillmode\":\"overlay\",\"size\":10,\"solidity\":0.2},\"type\":\"scatter\"}],\"parcoords\":[{\"type\":\"parcoords\",\"line\":{\"colorbar\":{\"outlinewidth\":0,\"ticks\":\"\"}}}],\"scatterpolargl\":[{\"type\":\"scatterpolargl\",\"marker\":{\"colorbar\":{\"outlinewidth\":0,\"ticks\":\"\"}}}],\"bar\":[{\"error_x\":{\"color\":\"#2a3f5f\"},\"error_y\":{\"color\":\"#2a3f5f\"},\"marker\":{\"line\":{\"color\":\"#E5ECF6\",\"width\":0.5},\"pattern\":{\"fillmode\":\"overlay\",\"size\":10,\"solidity\":0.2}},\"type\":\"bar\"}],\"scattergeo\":[{\"type\":\"scattergeo\",\"marker\":{\"colorbar\":{\"outlinewidth\":0,\"ticks\":\"\"}}}],\"scatterpolar\":[{\"type\":\"scatterpolar\",\"marker\":{\"colorbar\":{\"outlinewidth\":0,\"ticks\":\"\"}}}],\"histogram\":[{\"marker\":{\"pattern\":{\"fillmode\":\"overlay\",\"size\":10,\"solidity\":0.2}},\"type\":\"histogram\"}],\"scattergl\":[{\"type\":\"scattergl\",\"marker\":{\"colorbar\":{\"outlinewidth\":0,\"ticks\":\"\"}}}],\"scatter3d\":[{\"type\":\"scatter3d\",\"line\":{\"colorbar\":{\"outlinewidth\":0,\"ticks\":\"\"}},\"marker\":{\"colorbar\":{\"outlinewidth\":0,\"ticks\":\"\"}}}],\"scattermapbox\":[{\"type\":\"scattermapbox\",\"marker\":{\"colorbar\":{\"outlinewidth\":0,\"ticks\":\"\"}}}],\"scatterternary\":[{\"type\":\"scatterternary\",\"marker\":{\"colorbar\":{\"outlinewidth\":0,\"ticks\":\"\"}}}],\"scattercarpet\":[{\"type\":\"scattercarpet\",\"marker\":{\"colorbar\":{\"outlinewidth\":0,\"ticks\":\"\"}}}],\"carpet\":[{\"aaxis\":{\"endlinecolor\":\"#2a3f5f\",\"gridcolor\":\"white\",\"linecolor\":\"white\",\"minorgridcolor\":\"white\",\"startlinecolor\":\"#2a3f5f\"},\"baxis\":{\"endlinecolor\":\"#2a3f5f\",\"gridcolor\":\"white\",\"linecolor\":\"white\",\"minorgridcolor\":\"white\",\"startlinecolor\":\"#2a3f5f\"},\"type\":\"carpet\"}],\"table\":[{\"cells\":{\"fill\":{\"color\":\"#EBF0F8\"},\"line\":{\"color\":\"white\"}},\"header\":{\"fill\":{\"color\":\"#C8D4E3\"},\"line\":{\"color\":\"white\"}},\"type\":\"table\"}],\"barpolar\":[{\"marker\":{\"line\":{\"color\":\"#E5ECF6\",\"width\":0.5},\"pattern\":{\"fillmode\":\"overlay\",\"size\":10,\"solidity\":0.2}},\"type\":\"barpolar\"}],\"pie\":[{\"automargin\":true,\"type\":\"pie\"}]},\"layout\":{\"autotypenumbers\":\"strict\",\"colorway\":[\"#636efa\",\"#EF553B\",\"#00cc96\",\"#ab63fa\",\"#FFA15A\",\"#19d3f3\",\"#FF6692\",\"#B6E880\",\"#FF97FF\",\"#FECB52\"],\"font\":{\"color\":\"#2a3f5f\"},\"hovermode\":\"closest\",\"hoverlabel\":{\"align\":\"left\"},\"paper_bgcolor\":\"white\",\"plot_bgcolor\":\"#E5ECF6\",\"polar\":{\"bgcolor\":\"#E5ECF6\",\"angularaxis\":{\"gridcolor\":\"white\",\"linecolor\":\"white\",\"ticks\":\"\"},\"radialaxis\":{\"gridcolor\":\"white\",\"linecolor\":\"white\",\"ticks\":\"\"}},\"ternary\":{\"bgcolor\":\"#E5ECF6\",\"aaxis\":{\"gridcolor\":\"white\",\"linecolor\":\"white\",\"ticks\":\"\"},\"baxis\":{\"gridcolor\":\"white\",\"linecolor\":\"white\",\"ticks\":\"\"},\"caxis\":{\"gridcolor\":\"white\",\"linecolor\":\"white\",\"ticks\":\"\"}},\"coloraxis\":{\"colorbar\":{\"outlinewidth\":0,\"ticks\":\"\"}},\"colorscale\":{\"sequential\":[[0.0,\"#0d0887\"],[0.1111111111111111,\"#46039f\"],[0.2222222222222222,\"#7201a8\"],[0.3333333333333333,\"#9c179e\"],[0.4444444444444444,\"#bd3786\"],[0.5555555555555556,\"#d8576b\"],[0.6666666666666666,\"#ed7953\"],[0.7777777777777778,\"#fb9f3a\"],[0.8888888888888888,\"#fdca26\"],[1.0,\"#f0f921\"]],\"sequentialminus\":[[0.0,\"#0d0887\"],[0.1111111111111111,\"#46039f\"],[0.2222222222222222,\"#7201a8\"],[0.3333333333333333,\"#9c179e\"],[0.4444444444444444,\"#bd3786\"],[0.5555555555555556,\"#d8576b\"],[0.6666666666666666,\"#ed7953\"],[0.7777777777777778,\"#fb9f3a\"],[0.8888888888888888,\"#fdca26\"],[1.0,\"#f0f921\"]],\"diverging\":[[0,\"#8e0152\"],[0.1,\"#c51b7d\"],[0.2,\"#de77ae\"],[0.3,\"#f1b6da\"],[0.4,\"#fde0ef\"],[0.5,\"#f7f7f7\"],[0.6,\"#e6f5d0\"],[0.7,\"#b8e186\"],[0.8,\"#7fbc41\"],[0.9,\"#4d9221\"],[1,\"#276419\"]]},\"xaxis\":{\"gridcolor\":\"white\",\"linecolor\":\"white\",\"ticks\":\"\",\"title\":{\"standoff\":15},\"zerolinecolor\":\"white\",\"automargin\":true,\"zerolinewidth\":2},\"yaxis\":{\"gridcolor\":\"white\",\"linecolor\":\"white\",\"ticks\":\"\",\"title\":{\"standoff\":15},\"zerolinecolor\":\"white\",\"automargin\":true,\"zerolinewidth\":2},\"scene\":{\"xaxis\":{\"backgroundcolor\":\"#E5ECF6\",\"gridcolor\":\"white\",\"linecolor\":\"white\",\"showbackground\":true,\"ticks\":\"\",\"zerolinecolor\":\"white\",\"gridwidth\":2},\"yaxis\":{\"backgroundcolor\":\"#E5ECF6\",\"gridcolor\":\"white\",\"linecolor\":\"white\",\"showbackground\":true,\"ticks\":\"\",\"zerolinecolor\":\"white\",\"gridwidth\":2},\"zaxis\":{\"backgroundcolor\":\"#E5ECF6\",\"gridcolor\":\"white\",\"linecolor\":\"white\",\"showbackground\":true,\"ticks\":\"\",\"zerolinecolor\":\"white\",\"gridwidth\":2}},\"shapedefaults\":{\"line\":{\"color\":\"#2a3f5f\"}},\"annotationdefaults\":{\"arrowcolor\":\"#2a3f5f\",\"arrowhead\":0,\"arrowwidth\":1},\"geo\":{\"bgcolor\":\"white\",\"landcolor\":\"#E5ECF6\",\"subunitcolor\":\"white\",\"showland\":true,\"showlakes\":true,\"lakecolor\":\"white\"},\"title\":{\"x\":0.05},\"mapbox\":{\"style\":\"light\"}}},\"title\":{\"text\":\"Plotly Example\"},\"xaxis\":{\"title\":{\"text\":\"X axis\"}},\"yaxis\":{\"title\":{\"text\":\"Y axis\"}}},                        {\"responsive\": true}                    ).then(function(){\n",
              "                            \n",
              "var gd = document.getElementById('04570924-6814-4f84-9c1a-3f99f155df64');\n",
              "var x = new MutationObserver(function (mutations, observer) {{\n",
              "        var display = window.getComputedStyle(gd).display;\n",
              "        if (!display || display === 'none') {{\n",
              "            console.log([gd, 'removed!']);\n",
              "            Plotly.purge(gd);\n",
              "            observer.disconnect();\n",
              "        }}\n",
              "}});\n",
              "\n",
              "// Listen for the removal of the full notebook cells\n",
              "var notebookContainer = gd.closest('#notebook-container');\n",
              "if (notebookContainer) {{\n",
              "    x.observe(notebookContainer, {childList: true});\n",
              "}}\n",
              "\n",
              "// Listen for the clearing of the current output cell\n",
              "var outputEl = gd.closest('.output');\n",
              "if (outputEl) {{\n",
              "    x.observe(outputEl, {childList: true});\n",
              "}}\n",
              "\n",
              "                        })                };                            </script>        </div>\n",
              "</body>\n",
              "</html>"
            ]
          },
          "metadata": {}
        }
      ]
    },
    {
      "cell_type": "markdown",
      "source": [
        "Question 10. What is the significance of hierarchical indexing in Pandas?\n",
        "\n",
        "\n",
        " Answer- Hierarchical indexing (MultiIndex) in Pandas allows multiple levels of indexing in a DataFrame or Series. It helps in:\n",
        "\n",
        "1. Handling multi-dimensional data in a 2D structure.\n",
        "\n",
        "\n",
        "2. Simplifying data selection using multiple index levels.\n",
        "\n",
        "\n",
        "3. Organizing complex data intuitively (e.g., by time and region).\n",
        "\n",
        "\n",
        "4. Efficient grouping and aggregation.\n",
        "\n",
        "\n",
        "\n",
        "Example:"
      ],
      "metadata": {
        "id": "wzfg1nAEQEt2"
      }
    },
    {
      "cell_type": "code",
      "source": [
        "\n",
        "import pandas as pd\n",
        "\n",
        "# Create a DataFrame with hierarchical indexing\n",
        "data = {\n",
        "    'Year': [2020, 2020, 2021, 2021],\n",
        "    'Month': ['January', 'February', 'January', 'February'],\n",
        "    'Sales': [1000, 1500, 1200, 1700]\n",
        "}\n",
        "df = pd.DataFrame(data)\n",
        "\n",
        "# Set MultiIndex\n",
        "df.set_index(['Year', 'Month'], inplace=True)\n",
        "\n",
        "print(df)"
      ],
      "metadata": {
        "colab": {
          "base_uri": "https://localhost:8080/"
        },
        "id": "C7cNeX78ReVF",
        "outputId": "28743d1c-1205-4a3e-ab86-64a732bea005"
      },
      "execution_count": null,
      "outputs": [
        {
          "output_type": "stream",
          "name": "stdout",
          "text": [
            "               Sales\n",
            "Year Month          \n",
            "2020 January    1000\n",
            "     February   1500\n",
            "2021 January    1200\n",
            "     February   1700\n"
          ]
        }
      ]
    },
    {
      "cell_type": "markdown",
      "source": [
        "This allows easy slicing, grouping, and summarizing of data across multiple levels."
      ],
      "metadata": {
        "id": "7Q7OJ3CkRFJM"
      }
    },
    {
      "cell_type": "markdown",
      "source": [
        "\n",
        "\n",
        "Question 11. What is the role of seaborn's pairplot() function?\n",
        "\n",
        "\n",
        "Answer-Seaborn's pairplot() function creates a grid of scatter plots to visualize pairwise relationships between numerical variables in a dataset. It shows distributions on the diagonal (histograms or KDEs) and allows color-coding with the hue parameter for categorical grouping. It's useful for quick exploratory data analysis (EDA) and identifying patterns or correlations."
      ],
      "metadata": {
        "id": "jclenAn6RgpV"
      }
    },
    {
      "cell_type": "markdown",
      "source": [
        "Questions 12. What is the purpose of the describe() function in pandas?\n",
        "\n",
        "Answer-The describe() function in Pandas provides a summary of descriptive statistics for numerical or categorical columns in a DataFrame. It helps in quickly understanding the distribution and key properties of the data.\n",
        "\n",
        "Key Features:\n",
        "\n",
        "For numerical data: Shows statistics like count, mean, standard deviation, min, 25th percentile, median (50%), 75th percentile, and max.\n",
        "\n",
        "For categorical data: When include='object' or include='all' is specified, it shows count, unique, top (most frequent value), and frequency of the top value.\n",
        "\n",
        "\n",
        "Example-"
      ],
      "metadata": {
        "id": "qjFq7VUMCeLq"
      }
    },
    {
      "cell_type": "code",
      "source": [
        "import pandas as pd\n",
        "\n",
        "df = pd.DataFrame({'A': [1, 2, 3, 4], 'B': ['a', 'b', 'a', 'c']})\n",
        "print(df.describe())"
      ],
      "metadata": {
        "colab": {
          "base_uri": "https://localhost:8080/"
        },
        "id": "LVJ7w1LeET8A",
        "outputId": "8249227e-c409-4b45-8e8f-fe4ebdfc241a"
      },
      "execution_count": null,
      "outputs": [
        {
          "output_type": "stream",
          "name": "stdout",
          "text": [
            "              A\n",
            "count  4.000000\n",
            "mean   2.500000\n",
            "std    1.290994\n",
            "min    1.000000\n",
            "25%    1.750000\n",
            "50%    2.500000\n",
            "75%    3.250000\n",
            "max    4.000000\n"
          ]
        }
      ]
    },
    {
      "cell_type": "markdown",
      "source": [
        "This function is widely used for quick data exploration and understanding the dataset's structure."
      ],
      "metadata": {
        "id": "UV0jgylEEX8O"
      }
    },
    {
      "cell_type": "markdown",
      "source": [
        "Question 13.why is handling missing data important in pandas?\n",
        "\n",
        "Answer-Handling missing data in Pandas is important because:\n",
        "\n",
        "1. Ensures Data Quality: Missing values can lead to inaccurate or misleading analysis if not handled properly.\n",
        "\n",
        "\n",
        "2. Prevents Errors: Many operations or models cannot handle missing values directly, causing errors during computations.\n",
        "\n",
        "\n",
        "3. Improves Model Performance: In machine learning, missing data can degrade model accuracy or introduce bias.\n",
        "\n",
        "\n",
        "4. Maintains Data Integrity: Properly addressing missing data helps ensure the dataset reflects true insights and patterns.\n",
        "\n",
        "\n",
        "5. Supports Better Decision-Making: Clean data leads to more reliable results for analysis and business decisions.\n",
        "\n",
        "\n",
        "\n",
        "Common methods to handle missing data include removal (dropna()) or imputation (fillna())."
      ],
      "metadata": {
        "id": "k_FSG78JEcp1"
      }
    },
    {
      "cell_type": "markdown",
      "source": [
        "Question 14. What are the benefits of using plotly for data visualisation?\n",
        "\n",
        "Answer-Plotly offers several benefits for data visualization, making it a popular choice among data scientists, analysts, and developers. Here are the key advantages:\n",
        "\n",
        "1. Interactive Visualizations:\n",
        "\n",
        "Plotly supports highly interactive graphs, allowing users to zoom, pan, hover over points, and explore data dynamically.\n",
        "\n",
        "Features like tooltips and sliders enhance user engagement and data exploration.\n",
        "\n",
        "\n",
        "2. Wide Range of Plot Types:\n",
        "\n",
        "Plotly supports a diverse range of chart types, including line charts, scatter plots, bar charts, pie charts, heatmaps, 3D plots, choropleth maps, and more.\n",
        "\n",
        "\n",
        "3. Ease of Use:\n",
        "\n",
        "Plotly's Python, R, and JavaScript libraries provide straightforward syntax, making it relatively easy to create complex visualizations with minimal code.\n",
        "\n",
        "Integrates well with popular libraries like Pandas and NumPy for seamless data processing and visualization.\n",
        "\n",
        "\n",
        "4. Cross-Platform and Language Support:\n",
        "\n",
        "Available for multiple languages including Python (plotly.py), R (plotly), and JavaScript (Plotly.js), ensuring compatibility across different platforms and projects.\n",
        "\n",
        "Can be used in Jupyter Notebooks, Dash applications, and web-based platforms.\n",
        "\n",
        "\n",
        "5. Customizable and Flexible:\n",
        "\n",
        "Offers extensive options for customizing plot aesthetics, layout, annotations, and colors.\n",
        "\n",
        "Supports dynamic themes and templates for consistent styling across projects.\n",
        "\n",
        "\n",
        "6. Publication-Quality Graphics:\n",
        "\n",
        "Plotly generates high-resolution, publication-ready visuals suitable for reports, presentations, and research papers.\n",
        "\n",
        "\n",
        "7. Integration with Dash:\n",
        "\n",
        "Works seamlessly with Dash, Plotly's framework for building interactive web applications, making it easy to develop and deploy dashboard-style analytics tools.\n",
        "\n",
        "\n",
        "8. Web-Ready Visualizations:\n",
        "\n",
        "Outputs charts in HTML format, making it easy to embed plots into web pages, blogs, or applications.\n",
        "\n",
        "Interactive plots can be shared via URLs or exported to static image formats like PNG and PDF.\n",
        "\n",
        "\n",
        "9. Support for 3D and Geo-Spatial Plots:\n",
        "\n",
        "Allows for the creation of 3D plots, geo-maps, and other advanced visualizations often not supported by traditional libraries like Matplotlib.\n",
        "\n",
        "\n",
        "10. Open-Source with Commercial Options:\n",
        "\n",
        "The core library is open-source, but Plotly also offers enterprise-level solutions and additional features through Plotly Chart Studio.\n",
        "\n",
        "\n",
        "In summary, Plotly is ideal for creating versatile, interactive, and web-friendly visualizations that can be easily customized and shared across platforms."
      ],
      "metadata": {
        "id": "eDfzRlsGE3Y2"
      }
    },
    {
      "cell_type": "markdown",
      "source": [
        "Question 15. How does numpy handle  multidimensional arrays?\n",
        "\n",
        "Answer-NumPy handles multidimensional arrays using the ndarray (N-dimensional array) object. Here’s how it manages them:\n",
        "\n",
        "1. Structure:\n",
        "\n",
        "ndarray stores data in a contiguous block of memory and supports arrays of any dimension (1D, 2D, 3D, etc.).\n",
        "\n",
        "The shape attribute defines the dimensions (e.g., (3, 4) for 2 rows and 4 columns).\n",
        "\n",
        "\n",
        "\n",
        "2. Indexing and Slicing:\n",
        "\n",
        "Supports multi-axis indexing (e.g., arr[1, 2]) and slicing (e.g., arr[:, 1] for all rows in the second column).\n",
        "\n",
        "\n",
        "\n",
        "3. Operations:\n",
        "\n",
        "Efficient element-wise operations and broadcasting allow computations across arrays of different shapes.\n",
        "\n",
        "\n",
        "\n",
        "4. Reshaping:\n",
        "\n",
        "Methods like reshape() change the shape without altering the data.\n",
        "\n",
        "\n",
        "\n",
        "5. Efficiency:\n",
        "\n",
        "Written in C, NumPy efficiently handles large arrays with low-level optimization for speed and memory usage.\n",
        "\n",
        "\n",
        "\n",
        "\n",
        "In summary, NumPy's ndarray provides flexible, fast handling of multidimensional arrays with powerful indexing, operations, and reshaping capabilities."
      ],
      "metadata": {
        "id": "U5oiYqmyFr1E"
      }
    },
    {
      "cell_type": "markdown",
      "source": [
        "Question 16. What is the role of bokeh in data visualislzation?\n",
        "\n",
        "\n",
        "Answer-Bokeh is a Python library designed for creating interactive, web-ready data visualizations. Its primary role in data visualization includes:\n",
        "\n",
        "1. Interactive Plots: Supports interactive features like zooming, panning, tooltips, and sliders, enhancing data exploration.\n",
        "\n",
        "\n",
        "2. Web Integration: Outputs plots as HTML, making it easy to embed in web applications and dashboards.\n",
        "\n",
        "\n",
        "3. Versatile Chart Types: Offers a variety of charts (line, bar, scatter, heatmaps, etc.) and complex layouts (grids, multiple plots).\n",
        "\n",
        "\n",
        "4. High Performance: Handles large datasets efficiently using JavaScript rendering on the client side.\n",
        "\n",
        "\n",
        "5. Integration with Tools: Works well with Jupyter Notebooks, Flask, and Django, and supports streaming data for real-time visualization.\n",
        "\n",
        "\n",
        "6. Customizable: Allows fine-tuned control over plot elements and styling.\n",
        "\n",
        "\n",
        "\n",
        "In summary, Bokeh excels at building interactive, dynamic visualizations suitable for web deployment and dashboards."
      ],
      "metadata": {
        "id": "MyMreHJfGLB-"
      }
    },
    {
      "cell_type": "markdown",
      "source": [
        "Question 17. Explain the difference between apply () and map() in pandas?\n",
        "\n",
        "\n",
        "Answer-In Pandas, apply() and map() are used to perform operations on data, but they serve different purposes and work on different data structures. Here's the key difference:\n",
        "\n",
        "\n",
        "---\n",
        "\n",
        "1. apply()\n",
        "\n",
        "Scope: Works on both DataFrames and Series.\n",
        "\n",
        "Functionality: Allows you to apply a function to each element, row, or column.\n",
        "\n",
        "Flexibility: Can take more complex functions and lambda functions.\n",
        "\n",
        "Usage Example:"
      ],
      "metadata": {
        "id": "cZj0tD9fGf0B"
      }
    },
    {
      "cell_type": "code",
      "source": [
        "import pandas as pd\n",
        "df = pd.DataFrame({'A': [1, 2, 3], 'B': [4, 5, 6]})\n",
        "df['A'] = df['A'].apply(lambda x: x * 2)"
      ],
      "metadata": {
        "id": "TVB-C6SKG8lM"
      },
      "execution_count": null,
      "outputs": []
    },
    {
      "cell_type": "markdown",
      "source": [
        "This doubles each value in column 'A'.\n",
        "\n",
        "\n",
        "\n",
        "---\n",
        "\n",
        "2. map()\n",
        "\n",
        "Scope: Works on Series only.\n",
        "\n",
        "Functionality: Primarily used for mapping values using a dictionary, Series, or a function.\n",
        "\n",
        "Simpler Use Case: Ideal for replacing or transforming values based on a predefined mapping.\n",
        "\n",
        "Usage Example:"
      ],
      "metadata": {
        "id": "sLU-DDPzG9Ef"
      }
    },
    {
      "cell_type": "code",
      "source": [
        "s = pd.Series([1, 2, 3])\n",
        "s = s.map({1: 'One', 2: 'Two', 3: 'Three'})"
      ],
      "metadata": {
        "id": "GWWF1K_GHEge"
      },
      "execution_count": null,
      "outputs": []
    },
    {
      "cell_type": "markdown",
      "source": [
        "This maps the values in the Series to corresponding strings.\n",
        "\n",
        "\n",
        "\n",
        "---\n",
        "\n",
        "Summary of Differences\n",
        "\n",
        "In short, use apply() for flexible and complex operations and map() for simpler value mapping in a Series."
      ],
      "metadata": {
        "id": "PmoJwsxbHTWU"
      }
    },
    {
      "cell_type": "markdown",
      "source": [
        "Question 18. What are some advanced features of numpy?\n",
        "\n",
        "Answer-NumPy offers several advanced features that make it a powerful tool for scientific computing and data processing:\n",
        "\n",
        "1. Broadcasting:\n",
        "\n",
        "Allows arithmetic operations between arrays of different shapes by automatically expanding dimensions to match.\n",
        "\n",
        "Example: Adding a scalar to a 2D array.\n",
        "\n",
        "\n",
        "\n",
        "2. Vectorization:\n",
        "\n",
        "Performs element-wise operations without explicit loops, leveraging optimized C implementations for speed.\n",
        "\n",
        "\n",
        "\n",
        "3. Universal Functions (ufuncs):\n",
        "\n",
        "Efficient, element-wise operations like np.add, np.multiply, and more, supporting broadcasting and type casting.\n",
        "\n",
        "\n",
        "\n",
        "4. Masked Arrays:\n",
        "\n",
        "Allows handling of missing or invalid data by masking elements using numpy.ma.\n",
        "\n",
        "\n",
        "\n",
        "5. Structured Arrays:\n",
        "\n",
        "Enables heterogeneous data types within an array, similar to a table or database structure.\n",
        "\n",
        "\n",
        "\n",
        "6. Views and Copies:\n",
        "\n",
        "Facilitates memory-efficient operations by enabling views (shallow copies) instead of full data copies.\n",
        "\n",
        "\n",
        "\n",
        "7. Memory-Mapped Files:\n",
        "\n",
        "Allows working with large datasets stored on disk without loading the entire file into memory using numpy.memmap.\n",
        "\n",
        "\n",
        "\n",
        "8. Advanced Indexing:\n",
        "\n",
        "Supports fancy indexing, boolean indexing, and multi-dimensional slicing for complex data selection.\n",
        "\n",
        "\n",
        "\n",
        "9. Linear Algebra:\n",
        "\n",
        "Offers functions for matrix operations, decompositions, and solving systems of linear equations through numpy.linalg.\n",
        "\n",
        "\n",
        "\n",
        "10. Fast Fourier Transforms (FFT):\n",
        "\n",
        "Provides tools for computing discrete Fourier transforms with numpy.fft.\n",
        "\n",
        "\n",
        "\n",
        "11. Random Sampling:\n",
        "\n",
        "Generates random numbers and samples from different distributions using numpy.random.\n",
        "\n",
        "\n",
        "\n",
        "12. Parallel Processing:\n",
        "\n",
        "Leverages multi-threading and parallelism for some operations, speeding up performance on multi-core processors.\n",
        "\n",
        "\n",
        "\n",
        "\n",
        "These advanced features make NumPy an essential tool for high-performance data processing and numerical computation."
      ],
      "metadata": {
        "id": "_zwI3qUOHa_N"
      }
    },
    {
      "cell_type": "markdown",
      "source": [
        "Question 19. How does pandas simplify time series analysis?\n",
        "\n",
        "Answer-Pandas simplifies time series analysis with:\n",
        "\n",
        "1. Datetime Indexing: Easy selection by dates/times.\n",
        "\n",
        "\n",
        "2. Resampling: Aggregate data to different frequencies.\n",
        "\n",
        "\n",
        "3. Shifting/Rolling Windows: For lags and moving averages.\n",
        "\n",
        "\n",
        "4. Date Parsing: Automatic conversion of strings to dates.\n",
        "\n",
        "\n",
        "5. Time Zones: Simple localization and conversion.\n",
        "\n",
        "\n",
        "6. Plotting: Quick visualization of time series data.\n",
        "\n",
        "\n",
        "\n",
        "These features make handling time-based data efficient and intuitive."
      ],
      "metadata": {
        "id": "d3SIxzW6H0Ku"
      }
    },
    {
      "cell_type": "markdown",
      "source": [
        "Question 20. What is the role of a pivot table in pandas?\n",
        "\n",
        "Answer-A pivot table in Pandas is used to summarize and reorganize data in a DataFrame, making it easier to analyze. It allows you to:\n",
        "\n",
        "1. Group Data: Organize data based on unique values of one or more columns.\n",
        "\n",
        "\n",
        "2. Aggregate Values: Apply functions like mean, sum, or count to summarize grouped data.\n",
        "\n",
        "\n",
        "3. Reshape Data: Rearrange rows and columns for easier analysis.\n",
        "\n",
        "\n",
        "4. Handle Multi-Indexing: Create multi-level indices for complex summaries.\n",
        "\n",
        "\n",
        "\n",
        "Example:"
      ],
      "metadata": {
        "id": "7lkk-nneIKL5"
      }
    },
    {
      "cell_type": "code",
      "source": [
        "import pandas as pd\n",
        "\n",
        "# Example DataFrame\n",
        "data = {\n",
        "    'Product': ['A', 'A', 'B', 'B', 'C', 'C'],\n",
        "    'Month': ['Jan', 'Feb', 'Jan', 'Feb', 'Jan', 'Feb'],\n",
        "    'Sales': [100, 150, 200, 250, 300, 350]\n",
        "}\n",
        "df = pd.DataFrame(data)\n",
        "\n",
        "# Pivot table to summarize sales by Product and Month\n",
        "pivot = df.pivot_table(values='Sales', index='Product', columns='Month', aggfunc='sum')\n",
        "\n",
        "print(pivot)"
      ],
      "metadata": {
        "colab": {
          "base_uri": "https://localhost:8080/"
        },
        "id": "K44x04B3IwVz",
        "outputId": "22ad7856-d0c0-4d91-daf2-1db34447840b"
      },
      "execution_count": null,
      "outputs": [
        {
          "output_type": "stream",
          "name": "stdout",
          "text": [
            "Month    Feb  Jan\n",
            "Product          \n",
            "A        150  100\n",
            "B        250  200\n",
            "C        350  300\n"
          ]
        }
      ]
    },
    {
      "cell_type": "markdown",
      "source": [
        "This aggregates sales by region and year.\n",
        "\n",
        "In short, pivot tables help efficiently summarize and explore datasets."
      ],
      "metadata": {
        "id": "w_ZfJAfyIjdk"
      }
    },
    {
      "cell_type": "markdown",
      "source": [
        "Question 21. Why is the numpy's array slicing faster than python's list slicing?\n",
        "\n",
        "\n",
        "Answer-NumPy's array slicing is faster than Python's list slicing because:\n",
        "\n",
        "1. Contiguous Memory: NumPy stores data in a single block of memory, making access and slicing quicker.\n",
        "\n",
        "\n",
        "2. Homogeneous Data: NumPy arrays are of the same type, reducing overhead.\n",
        "\n",
        "\n",
        "3. C Implementation: NumPy is optimized in C for performance, while Python lists involve more overhead.\n",
        "\n",
        "\n",
        "4. Views vs. Copies: NumPy slicing returns a view (no data duplication), while list slicing creates a new list with copied elements.\n",
        "\n",
        "\n",
        "\n",
        "These factors make NumPy slicing more efficient than Python's list slicing."
      ],
      "metadata": {
        "id": "N7kf_saHI2oG"
      }
    },
    {
      "cell_type": "markdown",
      "source": [
        "Question 22. What are some common use cases for seaborn?\n",
        "\n",
        "Answer-Common use cases of Seaborn include:\n",
        "\n",
        "1. Distribution: Visualizing data distributions (e.g., histograms, boxplots).\n",
        "\n",
        "\n",
        "2. Relationships: Showing relationships (e.g., scatter plots, pair plots).\n",
        "\n",
        "\n",
        "3. Categorical Data: Analyzing categorical data (e.g., bar plots, count plots).\n",
        "\n",
        "\n",
        "4. Correlation: Visualizing correlations (e.g., heatmaps).\n",
        "\n",
        "\n",
        "5. Facet Grids: Creating subplots based on categories.\n",
        "\n",
        "\n",
        "6. Regression: Visualizing regression lines (e.g., regplot).\n",
        "\n",
        "\n",
        "7. Time Series: Displaying trends over time (e.g., line plots).\n",
        "\n",
        "\n",
        "\n",
        "Seaborn excels at statistical data visualization."
      ],
      "metadata": {
        "id": "ilDbQ-RDJi8c"
      }
    },
    {
      "cell_type": "markdown",
      "source": [
        "PRACTICAL QUESTIONS:-\n",
        "\n",
        "---------"
      ],
      "metadata": {
        "id": "gf3khkoiJ5O-"
      }
    },
    {
      "cell_type": "markdown",
      "source": [
        "1. How do you create but 2D NumPy array and calculate the sum of each row?\n",
        "\n",
        "\n",
        "Answer-Here's a step-by-step explanation of how to create a 2D NumPy array and calculate the sum of each row:\n",
        "\n",
        "Steps:\n",
        "\n",
        "1. Import NumPy: Use the numpy library for array operations.\n",
        "\n",
        "\n",
        "2. Create a 2D NumPy Array: Use the numpy.array() function to create a 2D array.\n",
        "\n",
        "\n",
        "3. Calculate the Sum of Each Row: Use the numpy.sum() function with the axis parameter set to 1 (row-wise).\n",
        "\n",
        "\n",
        "\n",
        "Example Code:"
      ],
      "metadata": {
        "id": "HR73Ita5KE__"
      }
    },
    {
      "cell_type": "code",
      "source": [
        "import numpy as np\n",
        "\n",
        "# Step 2: Create a 2D NumPy array\n",
        "array = np.array([[1, 2, 3],\n",
        "                  [4, 5, 6],\n",
        "                  [7, 8, 9]])\n",
        "\n",
        "# Step 3: Calculate the sum of each row\n",
        "row_sums = np.sum(array, axis=1)\n",
        "\n",
        "print(\"2D Array:\")\n",
        "print(array)\n",
        "print(\"Sum of each row:\")\n",
        "print(row_sums)"
      ],
      "metadata": {
        "colab": {
          "base_uri": "https://localhost:8080/"
        },
        "id": "MOV9KyOnGRb-",
        "outputId": "89c3c1e5-880e-4ebd-c346-0e7aacf148d4"
      },
      "execution_count": null,
      "outputs": [
        {
          "output_type": "stream",
          "name": "stdout",
          "text": [
            "2D Array:\n",
            "[[1 2 3]\n",
            " [4 5 6]\n",
            " [7 8 9]]\n",
            "Sum of each row:\n",
            "[ 6 15 24]\n"
          ]
        }
      ]
    },
    {
      "cell_type": "markdown",
      "source": [
        "Explanation:\n",
        "\n",
        "The axis=1 argument tells NumPy to compute the sum along the rows (across columns).\n",
        "\n",
        "If you want to compute the sum along the columns, you can use axis=0."
      ],
      "metadata": {
        "id": "tVtwjAS6GUYI"
      }
    },
    {
      "cell_type": "markdown",
      "source": [
        "2.Write a Pandas script to find the mean of a specific column in data frame.\n",
        "\n",
        "\n",
        "Answer -Here's how you can use Pandas to calculate the mean of a specific column in a DataFrame:\n",
        "\n",
        "Example Script:"
      ],
      "metadata": {
        "id": "6K_X_b2RGY35"
      }
    },
    {
      "cell_type": "code",
      "source": [
        "import pandas as pd\n",
        "\n",
        "# Create a sample DataFrame\n",
        "data = {\n",
        "    'Name': ['Alice', 'Bob', 'Charlie', 'David'],\n",
        "    'Age': [25, 30, 35, 40],\n",
        "    'Salary': [50000, 60000, 70000, 80000]\n",
        "}\n",
        "\n",
        "df = pd.DataFrame(data)\n",
        "\n",
        "# Calculate the mean of the 'Age' column\n",
        "age_mean = df['Age'].mean()\n",
        "\n",
        "# Print the result\n",
        "print(\"Mean of the 'Age' column:\", age_mean)"
      ],
      "metadata": {
        "colab": {
          "base_uri": "https://localhost:8080/"
        },
        "id": "Cc47gIPzG8TL",
        "outputId": "0597cdd6-a5ee-41e1-8078-b42c4b772439"
      },
      "execution_count": null,
      "outputs": [
        {
          "output_type": "stream",
          "name": "stdout",
          "text": [
            "Mean of the 'Age' column: 32.5\n"
          ]
        }
      ]
    },
    {
      "cell_type": "markdown",
      "source": [
        "3.Create a scatter plot using matplotlib.\n",
        "\n",
        "Answer-Here's how you can create a scatter plot using Matplotlib:\n",
        "\n",
        "Example Code:"
      ],
      "metadata": {
        "id": "tJXPabq8HAZF"
      }
    },
    {
      "cell_type": "code",
      "source": [
        "import matplotlib.pyplot as plt\n",
        "\n",
        "# Sample data\n",
        "x = [1, 2, 3, 4, 5]\n",
        "y = [2, 4, 1, 8, 7]\n",
        "\n",
        "# Create a scatter plot\n",
        "plt.scatter(x, y, color='blue', marker='o')\n",
        "\n",
        "# Add labels and title\n",
        "plt.xlabel('X-axis Label')\n",
        "plt.ylabel('Y-axis Label')\n",
        "plt.title('Sample Scatter Plot')\n",
        "\n",
        "# Display the plot\n",
        "plt.show()"
      ],
      "metadata": {
        "colab": {
          "base_uri": "https://localhost:8080/",
          "height": 259
        },
        "id": "13a-N0DDHYvV",
        "outputId": "9e92347d-4014-4f22-c8f0-bfd3f34e7ed5"
      },
      "execution_count": null,
      "outputs": [
        {
          "output_type": "display_data",
          "data": {
            "text/plain": [
              "<Figure size 640x480 with 1 Axes>"
            ],
            "image/png": "[encoded data removed]"
          },
          "metadata": {}
        }
      ]
    },
    {
      "cell_type": "markdown",
      "source": [
        "4.How do you calculate the correlation matrix using Seaborn and visualize it with a heatmap?\n",
        "\n",
        "Answer-To calculate the correlation matrix and visualize it with a heatmap using Seaborn, follow these steps:\n",
        "\n",
        "Example Code:"
      ],
      "metadata": {
        "id": "ovQ-3rNYHdad"
      }
    },
    {
      "cell_type": "code",
      "source": [
        "import pandas as pd\n",
        "import seaborn as sns\n",
        "import matplotlib.pyplot as plt\n",
        "\n",
        "# Sample data\n",
        "data = {\n",
        "    'A': [1, 2, 3, 4, 5],\n",
        "    'B': [5, 4, 3, 2, 1],\n",
        "    'C': [2, 3, 4, 5, 6],\n",
        "    'D': [10, 9, 8, 7, 6]\n",
        "}\n",
        "df = pd.DataFrame(data)\n",
        "\n",
        "# Step 1: Calculate the correlation matrix\n",
        "correlation_matrix = df.corr()\n",
        "\n",
        "# Step 2: Create a heatmap to visualize the correlation matrix\n",
        "sns.heatmap(correlation_matrix, annot=True, cmap='coolwarm', fmt='.2f')\n",
        "\n",
        "# Step 3: Add labels and title\n",
        "plt.title('Correlation Matrix Heatmap')\n",
        "plt.show()"
      ],
      "metadata": {
        "colab": {
          "base_uri": "https://localhost:8080/",
          "height": 257
        },
        "id": "Etl_X5FdH8Er",
        "outputId": "a99c56a3-fa48-488d-d6b7-c9bd3ec5e7ff"
      },
      "execution_count": null,
      "outputs": [
        {
          "output_type": "display_data",
          "data": {
            "text/plain": [
              "<Figure size 640x480 with 2 Axes>"
            ],
            "image/png": "[encoded data removed]"
          },
          "metadata": {}
        }
      ]
    },
    {
      "cell_type": "markdown",
      "source": [
        "5.Generate a bar plot using Plotly.\n",
        "\n",
        "Answer-Here’s how to create a bar plot using Plotly:\n",
        "\n",
        "Example Code:"
      ],
      "metadata": {
        "id": "UgLNDSH4IBCY"
      }
    },
    {
      "cell_type": "code",
      "source": [
        "import plotly.graph_objects as go\n",
        "\n",
        "# Sample data\n",
        "categories = ['Category A', 'Category B', 'Category C', 'Category D']\n",
        "values = [10, 15, 7, 12]\n",
        "\n",
        "# Create a bar plot\n",
        "fig = go.Figure(data=go.Bar(x=categories, y=values))\n",
        "\n",
        "# Add labels and title\n",
        "fig.update_layout(\n",
        "    title='Sample Bar Plot',\n",
        "    xaxis_title='Categories',\n",
        "    yaxis_title='Values'\n",
        ")\n",
        "\n",
        "# Show the plot\n",
        "fig.show()"
      ],
      "metadata": {
        "colab": {
          "base_uri": "https://localhost:8080/",
          "height": 542
        },
        "id": "pBieaqYVISaw",
        "outputId": "84fef823-c964-477d-e073-3bc2c6b8562f"
      },
      "execution_count": null,
      "outputs": [
        {
          "output_type": "display_data",
          "data": {
            "text/html": [
              "<html>\n",
              "<head><meta charset=\"utf-8\" /></head>\n",
              "<body>\n",
              "    <div>            <script src=\"https://cdnjs.cloudflare.com/ajax/libs/mathjax/2.7.5/MathJax.js?config=TeX-AMS-MML_SVG\"></script><script type=\"text/javascript\">if (window.MathJax && window.MathJax.Hub && window.MathJax.Hub.Config) {window.MathJax.Hub.Config({SVG: {font: \"STIX-Web\"}});}</script>                <script type=\"text/javascript\">window.PlotlyConfig = {MathJaxConfig: 'local'};</script>\n",
              "        <script charset=\"utf-8\" src=\"https://cdn.plot.ly/plotly-2.35.2.min.js\"></script>                <div id=\"bc8af257-2489-4af0-8a9f-86606ab1ed64\" class=\"plotly-graph-div\" style=\"height:525px; width:100%;\"></div>            <script type=\"text/javascript\">                                    window.PLOTLYENV=window.PLOTLYENV || {};                                    if (document.getElementById(\"bc8af257-2489-4af0-8a9f-86606ab1ed64\")) {                    Plotly.newPlot(                        \"bc8af257-2489-4af0-8a9f-86606ab1ed64\",                        [{\"x\":[\"Category A\",\"Category B\",\"Category C\",\"Category D\"],\"y\":[10,15,7,12],\"type\":\"bar\"}],                        {\"template\":{\"data\":{\"histogram2dcontour\":[{\"type\":\"histogram2dcontour\",\"colorbar\":{\"outlinewidth\":0,\"ticks\":\"\"},\"colorscale\":[[0.0,\"#0d0887\"],[0.1111111111111111,\"#46039f\"],[0.2222222222222222,\"#7201a8\"],[0.3333333333333333,\"#9c179e\"],[0.4444444444444444,\"#bd3786\"],[0.5555555555555556,\"#d8576b\"],[0.6666666666666666,\"#ed7953\"],[0.7777777777777778,\"#fb9f3a\"],[0.8888888888888888,\"#fdca26\"],[1.0,\"#f0f921\"]]}],\"choropleth\":[{\"type\":\"choropleth\",\"colorbar\":{\"outlinewidth\":0,\"ticks\":\"\"}}],\"histogram2d\":[{\"type\":\"histogram2d\",\"colorbar\":{\"outlinewidth\":0,\"ticks\":\"\"},\"colorscale\":[[0.0,\"#0d0887\"],[0.1111111111111111,\"#46039f\"],[0.2222222222222222,\"#7201a8\"],[0.3333333333333333,\"#9c179e\"],[0.4444444444444444,\"#bd3786\"],[0.5555555555555556,\"#d8576b\"],[0.6666666666666666,\"#ed7953\"],[0.7777777777777778,\"#fb9f3a\"],[0.8888888888888888,\"#fdca26\"],[1.0,\"#f0f921\"]]}],\"heatmap\":[{\"type\":\"heatmap\",\"colorbar\":{\"outlinewidth\":0,\"ticks\":\"\"},\"colorscale\":[[0.0,\"#0d0887\"],[0.1111111111111111,\"#46039f\"],[0.2222222222222222,\"#7201a8\"],[0.3333333333333333,\"#9c179e\"],[0.4444444444444444,\"#bd3786\"],[0.5555555555555556,\"#d8576b\"],[0.6666666666666666,\"#ed7953\"],[0.7777777777777778,\"#fb9f3a\"],[0.8888888888888888,\"#fdca26\"],[1.0,\"#f0f921\"]]}],\"heatmapgl\":[{\"type\":\"heatmapgl\",\"colorbar\":{\"outlinewidth\":0,\"ticks\":\"\"},\"colorscale\":[[0.0,\"#0d0887\"],[0.1111111111111111,\"#46039f\"],[0.2222222222222222,\"#7201a8\"],[0.3333333333333333,\"#9c179e\"],[0.4444444444444444,\"#bd3786\"],[0.5555555555555556,\"#d8576b\"],[0.6666666666666666,\"#ed7953\"],[0.7777777777777778,\"#fb9f3a\"],[0.8888888888888888,\"#fdca26\"],[1.0,\"#f0f921\"]]}],\"contourcarpet\":[{\"type\":\"contourcarpet\",\"colorbar\":{\"outlinewidth\":0,\"ticks\":\"\"}}],\"contour\":[{\"type\":\"contour\",\"colorbar\":{\"outlinewidth\":0,\"ticks\":\"\"},\"colorscale\":[[0.0,\"#0d0887\"],[0.1111111111111111,\"#46039f\"],[0.2222222222222222,\"#7201a8\"],[0.3333333333333333,\"#9c179e\"],[0.4444444444444444,\"#bd3786\"],[0.5555555555555556,\"#d8576b\"],[0.6666666666666666,\"#ed7953\"],[0.7777777777777778,\"#fb9f3a\"],[0.8888888888888888,\"#fdca26\"],[1.0,\"#f0f921\"]]}],\"surface\":[{\"type\":\"surface\",\"colorbar\":{\"outlinewidth\":0,\"ticks\":\"\"},\"colorscale\":[[0.0,\"#0d0887\"],[0.1111111111111111,\"#46039f\"],[0.2222222222222222,\"#7201a8\"],[0.3333333333333333,\"#9c179e\"],[0.4444444444444444,\"#bd3786\"],[0.5555555555555556,\"#d8576b\"],[0.6666666666666666,\"#ed7953\"],[0.7777777777777778,\"#fb9f3a\"],[0.8888888888888888,\"#fdca26\"],[1.0,\"#f0f921\"]]}],\"mesh3d\":[{\"type\":\"mesh3d\",\"colorbar\":{\"outlinewidth\":0,\"ticks\":\"\"}}],\"scatter\":[{\"fillpattern\":{\"fillmode\":\"overlay\",\"size\":10,\"solidity\":0.2},\"type\":\"scatter\"}],\"parcoords\":[{\"type\":\"parcoords\",\"line\":{\"colorbar\":{\"outlinewidth\":0,\"ticks\":\"\"}}}],\"scatterpolargl\":[{\"type\":\"scatterpolargl\",\"marker\":{\"colorbar\":{\"outlinewidth\":0,\"ticks\":\"\"}}}],\"bar\":[{\"error_x\":{\"color\":\"#2a3f5f\"},\"error_y\":{\"color\":\"#2a3f5f\"},\"marker\":{\"line\":{\"color\":\"#E5ECF6\",\"width\":0.5},\"pattern\":{\"fillmode\":\"overlay\",\"size\":10,\"solidity\":0.2}},\"type\":\"bar\"}],\"scattergeo\":[{\"type\":\"scattergeo\",\"marker\":{\"colorbar\":{\"outlinewidth\":0,\"ticks\":\"\"}}}],\"scatterpolar\":[{\"type\":\"scatterpolar\",\"marker\":{\"colorbar\":{\"outlinewidth\":0,\"ticks\":\"\"}}}],\"histogram\":[{\"marker\":{\"pattern\":{\"fillmode\":\"overlay\",\"size\":10,\"solidity\":0.2}},\"type\":\"histogram\"}],\"scattergl\":[{\"type\":\"scattergl\",\"marker\":{\"colorbar\":{\"outlinewidth\":0,\"ticks\":\"\"}}}],\"scatter3d\":[{\"type\":\"scatter3d\",\"line\":{\"colorbar\":{\"outlinewidth\":0,\"ticks\":\"\"}},\"marker\":{\"colorbar\":{\"outlinewidth\":0,\"ticks\":\"\"}}}],\"scattermapbox\":[{\"type\":\"scattermapbox\",\"marker\":{\"colorbar\":{\"outlinewidth\":0,\"ticks\":\"\"}}}],\"scatterternary\":[{\"type\":\"scatterternary\",\"marker\":{\"colorbar\":{\"outlinewidth\":0,\"ticks\":\"\"}}}],\"scattercarpet\":[{\"type\":\"scattercarpet\",\"marker\":{\"colorbar\":{\"outlinewidth\":0,\"ticks\":\"\"}}}],\"carpet\":[{\"aaxis\":{\"endlinecolor\":\"#2a3f5f\",\"gridcolor\":\"white\",\"linecolor\":\"white\",\"minorgridcolor\":\"white\",\"startlinecolor\":\"#2a3f5f\"},\"baxis\":{\"endlinecolor\":\"#2a3f5f\",\"gridcolor\":\"white\",\"linecolor\":\"white\",\"minorgridcolor\":\"white\",\"startlinecolor\":\"#2a3f5f\"},\"type\":\"carpet\"}],\"table\":[{\"cells\":{\"fill\":{\"color\":\"#EBF0F8\"},\"line\":{\"color\":\"white\"}},\"header\":{\"fill\":{\"color\":\"#C8D4E3\"},\"line\":{\"color\":\"white\"}},\"type\":\"table\"}],\"barpolar\":[{\"marker\":{\"line\":{\"color\":\"#E5ECF6\",\"width\":0.5},\"pattern\":{\"fillmode\":\"overlay\",\"size\":10,\"solidity\":0.2}},\"type\":\"barpolar\"}],\"pie\":[{\"automargin\":true,\"type\":\"pie\"}]},\"layout\":{\"autotypenumbers\":\"strict\",\"colorway\":[\"#636efa\",\"#EF553B\",\"#00cc96\",\"#ab63fa\",\"#FFA15A\",\"#19d3f3\",\"#FF6692\",\"#B6E880\",\"#FF97FF\",\"#FECB52\"],\"font\":{\"color\":\"#2a3f5f\"},\"hovermode\":\"closest\",\"hoverlabel\":{\"align\":\"left\"},\"paper_bgcolor\":\"white\",\"plot_bgcolor\":\"#E5ECF6\",\"polar\":{\"bgcolor\":\"#E5ECF6\",\"angularaxis\":{\"gridcolor\":\"white\",\"linecolor\":\"white\",\"ticks\":\"\"},\"radialaxis\":{\"gridcolor\":\"white\",\"linecolor\":\"white\",\"ticks\":\"\"}},\"ternary\":{\"bgcolor\":\"#E5ECF6\",\"aaxis\":{\"gridcolor\":\"white\",\"linecolor\":\"white\",\"ticks\":\"\"},\"baxis\":{\"gridcolor\":\"white\",\"linecolor\":\"white\",\"ticks\":\"\"},\"caxis\":{\"gridcolor\":\"white\",\"linecolor\":\"white\",\"ticks\":\"\"}},\"coloraxis\":{\"colorbar\":{\"outlinewidth\":0,\"ticks\":\"\"}},\"colorscale\":{\"sequential\":[[0.0,\"#0d0887\"],[0.1111111111111111,\"#46039f\"],[0.2222222222222222,\"#7201a8\"],[0.3333333333333333,\"#9c179e\"],[0.4444444444444444,\"#bd3786\"],[0.5555555555555556,\"#d8576b\"],[0.6666666666666666,\"#ed7953\"],[0.7777777777777778,\"#fb9f3a\"],[0.8888888888888888,\"#fdca26\"],[1.0,\"#f0f921\"]],\"sequentialminus\":[[0.0,\"#0d0887\"],[0.1111111111111111,\"#46039f\"],[0.2222222222222222,\"#7201a8\"],[0.3333333333333333,\"#9c179e\"],[0.4444444444444444,\"#bd3786\"],[0.5555555555555556,\"#d8576b\"],[0.6666666666666666,\"#ed7953\"],[0.7777777777777778,\"#fb9f3a\"],[0.8888888888888888,\"#fdca26\"],[1.0,\"#f0f921\"]],\"diverging\":[[0,\"#8e0152\"],[0.1,\"#c51b7d\"],[0.2,\"#de77ae\"],[0.3,\"#f1b6da\"],[0.4,\"#fde0ef\"],[0.5,\"#f7f7f7\"],[0.6,\"#e6f5d0\"],[0.7,\"#b8e186\"],[0.8,\"#7fbc41\"],[0.9,\"#4d9221\"],[1,\"#276419\"]]},\"xaxis\":{\"gridcolor\":\"white\",\"linecolor\":\"white\",\"ticks\":\"\",\"title\":{\"standoff\":15},\"zerolinecolor\":\"white\",\"automargin\":true,\"zerolinewidth\":2},\"yaxis\":{\"gridcolor\":\"white\",\"linecolor\":\"white\",\"ticks\":\"\",\"title\":{\"standoff\":15},\"zerolinecolor\":\"white\",\"automargin\":true,\"zerolinewidth\":2},\"scene\":{\"xaxis\":{\"backgroundcolor\":\"#E5ECF6\",\"gridcolor\":\"white\",\"linecolor\":\"white\",\"showbackground\":true,\"ticks\":\"\",\"zerolinecolor\":\"white\",\"gridwidth\":2},\"yaxis\":{\"backgroundcolor\":\"#E5ECF6\",\"gridcolor\":\"white\",\"linecolor\":\"white\",\"showbackground\":true,\"ticks\":\"\",\"zerolinecolor\":\"white\",\"gridwidth\":2},\"zaxis\":{\"backgroundcolor\":\"#E5ECF6\",\"gridcolor\":\"white\",\"linecolor\":\"white\",\"showbackground\":true,\"ticks\":\"\",\"zerolinecolor\":\"white\",\"gridwidth\":2}},\"shapedefaults\":{\"line\":{\"color\":\"#2a3f5f\"}},\"annotationdefaults\":{\"arrowcolor\":\"#2a3f5f\",\"arrowhead\":0,\"arrowwidth\":1},\"geo\":{\"bgcolor\":\"white\",\"landcolor\":\"#E5ECF6\",\"subunitcolor\":\"white\",\"showland\":true,\"showlakes\":true,\"lakecolor\":\"white\"},\"title\":{\"x\":0.05},\"mapbox\":{\"style\":\"light\"}}},\"title\":{\"text\":\"Sample Bar Plot\"},\"xaxis\":{\"title\":{\"text\":\"Categories\"}},\"yaxis\":{\"title\":{\"text\":\"Values\"}}},                        {\"responsive\": true}                    ).then(function(){\n",
              "                            \n",
              "var gd = document.getElementById('bc8af257-2489-4af0-8a9f-86606ab1ed64');\n",
              "var x = new MutationObserver(function (mutations, observer) {{\n",
              "        var display = window.getComputedStyle(gd).display;\n",
              "        if (!display || display === 'none') {{\n",
              "            console.log([gd, 'removed!']);\n",
              "            Plotly.purge(gd);\n",
              "            observer.disconnect();\n",
              "        }}\n",
              "}});\n",
              "\n",
              "// Listen for the removal of the full notebook cells\n",
              "var notebookContainer = gd.closest('#notebook-container');\n",
              "if (notebookContainer) {{\n",
              "    x.observe(notebookContainer, {childList: true});\n",
              "}}\n",
              "\n",
              "// Listen for the clearing of the current output cell\n",
              "var outputEl = gd.closest('.output');\n",
              "if (outputEl) {{\n",
              "    x.observe(outputEl, {childList: true});\n",
              "}}\n",
              "\n",
              "                        })                };                            </script>        </div>\n",
              "</body>\n",
              "</html>"
            ]
          },
          "metadata": {}
        }
      ]
    },
    {
      "cell_type": "markdown",
      "source": [
        "6.Create a DataFrame and add a new column based on an existing column.\n",
        "\n",
        "Answer-Here’s how to create a DataFrame and add a new column based on an existing column:\n",
        "\n",
        "Example Code:"
      ],
      "metadata": {
        "id": "L98Td6iLIYEq"
      }
    },
    {
      "cell_type": "code",
      "source": [
        "import pandas as pd\n",
        "\n",
        "# Step 1: Create a DataFrame\n",
        "data = {\n",
        "    'Name': ['Alice', 'Bob', 'Charlie', 'David'],\n",
        "    'Age': [25, 30, 35, 40]\n",
        "}\n",
        "df = pd.DataFrame(data)\n",
        "\n",
        "# Step 2: Add a new column based on an existing column\n",
        "# Create a new column 'Age in 5 Years' by adding 5 to the 'Age' column\n",
        "df['Age in 5 Years'] = df['Age'] + 5\n",
        "\n",
        "# Display the DataFrame\n",
        "print(df)"
      ],
      "metadata": {
        "colab": {
          "base_uri": "https://localhost:8080/"
        },
        "id": "du1grPq_Iri4",
        "outputId": "13109ce9-c9f5-4824-a820-6db48025226a"
      },
      "execution_count": null,
      "outputs": [
        {
          "output_type": "stream",
          "name": "stdout",
          "text": [
            "      Name  Age  Age in 5 Years\n",
            "0    Alice   25              30\n",
            "1      Bob   30              35\n",
            "2  Charlie   35              40\n",
            "3    David   40              45\n"
          ]
        }
      ]
    },
    {
      "cell_type": "markdown",
      "source": [
        "7.Write a program to perform element-wise multiplication of two NumPy arrays.\n",
        "\n",
        "Answer-Here's a program to perform element-wise multiplication of two NumPy arrays:\n",
        "\n",
        "Example Code:"
      ],
      "metadata": {
        "id": "_kOoto-iIvtZ"
      }
    },
    {
      "cell_type": "code",
      "source": [
        "import numpy as np\n",
        "\n",
        "# Create two NumPy arrays\n",
        "array1 = np.array([1, 2, 3, 4])\n",
        "array2 = np.array([5, 6, 7, 8])\n",
        "\n",
        "# Perform element-wise multiplication\n",
        "result = array1 * array2\n",
        "\n",
        "# Display the result\n",
        "print(\"Array 1:\", array1)\n",
        "print(\"Array 2:\", array2)\n",
        "print(\"Element-wise multiplication result:\", result)"
      ],
      "metadata": {
        "colab": {
          "base_uri": "https://localhost:8080/"
        },
        "id": "ZwgxwAhkJFtO",
        "outputId": "a9bf7cbc-fb81-4466-eb5f-a4561fc81eb9"
      },
      "execution_count": null,
      "outputs": [
        {
          "output_type": "stream",
          "name": "stdout",
          "text": [
            "Array 1: [1 2 3 4]\n",
            "Array 2: [5 6 7 8]\n",
            "Element-wise multiplication result: [ 5 12 21 32]\n"
          ]
        }
      ]
    },
    {
      "cell_type": "markdown",
      "source": [
        "Notes:\n",
        "\n",
        "The arrays must have the same shape for element-wise multiplication. If their shapes differ, you may need to use broadcasting."
      ],
      "metadata": {
        "id": "omHeF94RJI9f"
      }
    },
    {
      "cell_type": "markdown",
      "source": [
        "8.Create a line plot with multiple lines using matplotlib.\n",
        "\n",
        "Answer-Here's how to create a line plot with multiple lines using Matplotlib:\n",
        "\n",
        "Example Code:"
      ],
      "metadata": {
        "id": "QMAerXOYJQqI"
      }
    },
    {
      "cell_type": "code",
      "source": [
        "import matplotlib.pyplot as plt\n",
        "\n",
        "# Sample data\n",
        "x = [1, 2, 3, 4, 5]\n",
        "y1 = [2, 4, 6, 8, 10]\n",
        "y2 = [1, 3, 5, 7, 9]\n",
        "y3 = [2, 3, 4, 5, 6]\n",
        "\n",
        "# Create a line plot with multiple lines\n",
        "plt.plot(x, y1, label='Line 1', color='blue', linestyle='-')\n",
        "plt.plot(x, y2, label='Line 2', color='red', linestyle='--')\n",
        "plt.plot(x, y3, label='Line 3', color='green', linestyle='-.')\n",
        "\n",
        "# Add labels, title, and legend\n",
        "plt.xlabel('X-axis')\n",
        "plt.ylabel('Y-axis')\n",
        "plt.title('Line Plot with Multiple Lines')\n",
        "plt.legend()\n",
        "\n",
        "# Display the plot\n",
        "plt.show()"
      ],
      "metadata": {
        "colab": {
          "base_uri": "https://localhost:8080/",
          "height": 492
        },
        "id": "bFIrqv1lJlYQ",
        "outputId": "2a973e57-59bf-4169-859d-5ddc79a28e5a"
      },
      "execution_count": null,
      "outputs": [
        {
          "output_type": "display_data",
          "data": {
            "text/plain": [
              "<Figure size 640x480 with 1 Axes>"
            ],
            "image/png": "[encoded data removed]"
          },
          "metadata": {}
        }
      ]
    },
    {
      "cell_type": "markdown",
      "source": [
        "9.Generate a Pandas DataFrame and filter rows where a column value is greater than a threshold\n",
        "\n",
        "Answer-Here’s how you can generate a Pandas DataFrame and filter rows where a column value is greater than a threshold:\n",
        "\n",
        "Example Code:"
      ],
      "metadata": {
        "id": "G297u8c1Jpbz"
      }
    },
    {
      "cell_type": "code",
      "source": [
        "import pandas as pd\n",
        "\n",
        "# Step 1: Create a DataFrame\n",
        "data = {\n",
        "    'Name': ['Alice', 'Bob', 'Charlie', 'David'],\n",
        "    'Age': [25, 30, 35, 40],\n",
        "    'Salary': [50000, 60000, 70000, 80000]\n",
        "}\n",
        "df = pd.DataFrame(data)\n",
        "\n",
        "# Step 2: Filter rows where 'Age' is greater than 30\n",
        "filtered_df = df[df['Age'] > 30]\n",
        "\n",
        "# Display the filtered DataFrame\n",
        "print(\"Original DataFrame:\")\n",
        "print(df)\n",
        "print(\"\\nFiltered DataFrame (Age > 30):\")\n",
        "print(filtered_df)"
      ],
      "metadata": {
        "colab": {
          "base_uri": "https://localhost:8080/"
        },
        "id": "TbnMIampKEVq",
        "outputId": "0904107d-4a93-4927-cde5-a8e5f1760f4e"
      },
      "execution_count": null,
      "outputs": [
        {
          "output_type": "stream",
          "name": "stdout",
          "text": [
            "Original DataFrame:\n",
            "      Name  Age  Salary\n",
            "0    Alice   25   50000\n",
            "1      Bob   30   60000\n",
            "2  Charlie   35   70000\n",
            "3    David   40   80000\n",
            "\n",
            "Filtered DataFrame (Age > 30):\n",
            "      Name  Age  Salary\n",
            "2  Charlie   35   70000\n",
            "3    David   40   80000\n"
          ]
        }
      ]
    },
    {
      "cell_type": "markdown",
      "source": [
        "Explanation:\n",
        "\n",
        "1. Create a DataFrame: Use pd.DataFrame() to create a DataFrame from a dictionary.\n",
        "\n",
        "\n",
        "2. Filter Rows:\n",
        "\n",
        "Use boolean indexing: df[column_name] > threshold.\n",
        "\n",
        "Pass this condition as a filter to the DataFrame: df[condition].\n",
        "\n",
        "In this example, df['Age'] > 30 filters rows where the Age column is greater than 30.\n",
        "\n",
        "\n",
        "\n",
        "3. Display Results: Print the original and filtered DataFrames."
      ],
      "metadata": {
        "id": "O8foZLy2KILp"
      }
    },
    {
      "cell_type": "markdown",
      "source": [
        "10. Create a histogram using Seaborn to visualise a distribution.\n",
        "\n",
        "Answer-Here’s how you can create a histogram using Seaborn to visualize a distribution:\n",
        "\n",
        "Example Code:"
      ],
      "metadata": {
        "id": "Qi3fHIzWKNd2"
      }
    },
    {
      "cell_type": "code",
      "source": [
        "import seaborn as sns\n",
        "import matplotlib.pyplot as plt\n",
        "\n",
        "# Sample data\n",
        "data = [12, 15, 14, 10, 19, 21, 25, 22, 20, 18, 16, 14, 15, 13, 17]\n",
        "\n",
        "# Create a histogram using Seaborn\n",
        "sns.histplot(data, bins=10, kde=True, color='blue')\n",
        "\n",
        "# Add labels and title\n",
        "plt.xlabel('Values')\n",
        "plt.ylabel('Frequency')\n",
        "plt.title('Histogram with Distribution')\n",
        "\n",
        "# Show the plot\n",
        "plt.show()"
      ],
      "metadata": {
        "colab": {
          "base_uri": "https://localhost:8080/",
          "height": 254
        },
        "id": "Mm8FfgvkKzJ_",
        "outputId": "76fc7b1d-3b0e-4984-f56e-fb3f11926331"
      },
      "execution_count": null,
      "outputs": [
        {
          "output_type": "display_data",
          "data": {
            "text/plain": [
              "<Figure size 640x480 with 1 Axes>"
            ],
            "image/png": "[encoded data removed]"
          },
          "metadata": {}
        }
      ]
    },
    {
      "cell_type": "markdown",
      "source": [
        "11.Perform matrix multiplication using NumPy\n",
        "\n",
        "\n",
        "Answer-Here's how to perform matrix multiplication using NumPy:\n",
        "\n",
        "Example Code:"
      ],
      "metadata": {
        "id": "3snMXTTgK2Ad"
      }
    },
    {
      "cell_type": "code",
      "source": [
        "import numpy as np\n",
        "\n",
        "# Define two matrices\n",
        "matrix1 = np.array([[1, 2], [3, 4]])\n",
        "matrix2 = np.array([[5, 6], [7, 8]])\n",
        "\n",
        "# Perform matrix multiplication using np.dot() or @ operator\n",
        "result = np.dot(matrix1, matrix2)  # Alternatively, you can use matrix1 @ matrix2\n",
        "\n",
        "# Display the result\n",
        "print(\"Matrix 1:\")\n",
        "print(matrix1)\n",
        "print(\"\\nMatrix 2:\")\n",
        "print(matrix2)\n",
        "print(\"\\nResult of matrix multiplication:\")\n",
        "print(result)"
      ],
      "metadata": {
        "colab": {
          "base_uri": "https://localhost:8080/"
        },
        "id": "GStrXCB2LHnQ",
        "outputId": "42ce76d1-33e2-4db2-8882-3a5222e3baf8"
      },
      "execution_count": null,
      "outputs": [
        {
          "output_type": "stream",
          "name": "stdout",
          "text": [
            "Matrix 1:\n",
            "[[1 2]\n",
            " [3 4]]\n",
            "\n",
            "Matrix 2:\n",
            "[[5 6]\n",
            " [7 8]]\n",
            "\n",
            "Result of matrix multiplication:\n",
            "[[19 22]\n",
            " [43 50]]\n"
          ]
        }
      ]
    },
    {
      "cell_type": "markdown",
      "source": [
        "12.Use Pandas to load a CSV file and display its first five rows.\n",
        "\n",
        "Answer-"
      ],
      "metadata": {
        "id": "xfLcI4N-LK0A"
      }
    },
    {
      "cell_type": "code",
      "source": [
        "import pandas as pd\n",
        "\n",
        "# Sample CSV data (can be saved to a file 'sample_data.csv')\n",
        "data = {\n",
        "    'Name': ['Alice', 'Bob', 'Charlie', 'David', 'Eve'],\n",
        "    'Age': [24, 27, 22, 32, 29],\n",
        "    'City': ['New York', 'Los Angeles', 'Chicago', 'Houston', 'Phoenix']\n",
        "}\n",
        "\n",
        "# Save the data to a CSV file (simulating reading from a file)\n",
        "df = pd.DataFrame(data)\n",
        "df.to_csv('sample_data.csv', index=False)\n",
        "\n",
        "# Load the CSV file into a DataFrame\n",
        "df_loaded = pd.read_csv('sample_data.csv')\n",
        "\n",
        "# Display the first five rows of the DataFrame\n",
        "print(df_loaded.head())"
      ],
      "metadata": {
        "colab": {
          "base_uri": "https://localhost:8080/"
        },
        "id": "xDgRBFDaLhVz",
        "outputId": "40049916-922c-45fc-d24a-5bfbcf01c3f9"
      },
      "execution_count": null,
      "outputs": [
        {
          "output_type": "stream",
          "name": "stdout",
          "text": [
            "      Name  Age         City\n",
            "0    Alice   24     New York\n",
            "1      Bob   27  Los Angeles\n",
            "2  Charlie   22      Chicago\n",
            "3    David   32      Houston\n",
            "4      Eve   29      Phoenix\n"
          ]
        }
      ]
    },
    {
      "cell_type": "markdown",
      "source": [
        "Explanation:\n",
        "\n",
        "1. Create Sample Data: We simulate CSV data with a dictionary containing names, ages, and cities.\n",
        "\n",
        "\n",
        "2. Save Data to CSV: We save the dictionary as a CSV file using df.to_csv(). This step is just to simulate loading data from an actual file.\n",
        "\n",
        "\n",
        "3. Load CSV into DataFrame: The CSV file is loaded into the DataFrame df_loaded using pd.read_csv().\n",
        "\n",
        "\n",
        "4. Display First Five Rows: We use df_loaded.head() to display the first five rows of the loaded DataFrame.\n",
        "\n",
        "\n",
        "\n",
        "Notes:\n",
        "\n",
        "This example demonstrates how to load and display data from a CSV file, but you can use this same approach for any CSV file."
      ],
      "metadata": {
        "id": "Z8Q7AH7_LewV"
      }
    },
    {
      "cell_type": "markdown",
      "source": [
        "13.Create a 3D scatter plot using Plotly.\n",
        "\n",
        "Answer-"
      ],
      "metadata": {
        "id": "6lp2MOELLysK"
      }
    },
    {
      "cell_type": "code",
      "source": [
        "import plotly.graph_objects as go\n",
        "\n",
        "# Sample data for the 3D scatter plot\n",
        "x = [1, 2, 3, 4, 5]\n",
        "y = [5, 4, 3, 2, 1]\n",
        "z = [2, 3, 4, 5, 6]\n",
        "\n",
        "# Create a 3D scatter plot\n",
        "fig = go.Figure(data=[go.Scatter3d(\n",
        "    x=x, y=y, z=z,\n",
        "    mode='markers',\n",
        "    marker=dict(\n",
        "        size=12,\n",
        "        color=z,  # Color by the 'z' values\n",
        "        colorscale='Viridis',  # Color scale\n",
        "        opacity=0.8\n",
        "    )\n",
        ")])\n",
        "\n",
        "# Add labels and title\n",
        "fig.update_layout(\n",
        "    title='3D Scatter Plot',\n",
        "    scene=dict(\n",
        "        xaxis_title='X Axis',\n",
        "        yaxis_title='Y Axis',\n",
        "        zaxis_title='Z Axis'\n",
        "    )\n",
        ")\n",
        "\n",
        "# Show the plot\n",
        "fig.show()"
      ],
      "metadata": {
        "id": "t8NRemwHL-xq",
        "outputId": "c9e54e7a-18f0-4b39-eb3d-47cc6abdd619",
        "colab": {
          "base_uri": "https://localhost:8080/",
          "height": 542
        }
      },
      "execution_count": null,
      "outputs": [
        {
          "output_type": "display_data",
          "data": {
            "text/html": [
              "<html>\n",
              "<head><meta charset=\"utf-8\" /></head>\n",
              "<body>\n",
              "    <div>            <script src=\"https://cdnjs.cloudflare.com/ajax/libs/mathjax/2.7.5/MathJax.js?config=TeX-AMS-MML_SVG\"></script><script type=\"text/javascript\">if (window.MathJax && window.MathJax.Hub && window.MathJax.Hub.Config) {window.MathJax.Hub.Config({SVG: {font: \"STIX-Web\"}});}</script>                <script type=\"text/javascript\">window.PlotlyConfig = {MathJaxConfig: 'local'};</script>\n",
              "        <script charset=\"utf-8\" src=\"https://cdn.plot.ly/plotly-2.35.2.min.js\"></script>                <div id=\"9c8ddfc6-ab63-411a-92fd-771400550634\" class=\"plotly-graph-div\" style=\"height:525px; width:100%;\"></div>            <script type=\"text/javascript\">                                    window.PLOTLYENV=window.PLOTLYENV || {};                                    if (document.getElementById(\"9c8ddfc6-ab63-411a-92fd-771400550634\")) {                    Plotly.newPlot(                        \"9c8ddfc6-ab63-411a-92fd-771400550634\",                        [{\"marker\":{\"color\":[2,3,4,5,6],\"colorscale\":[[0.0,\"#440154\"],[0.1111111111111111,\"#482878\"],[0.2222222222222222,\"#3e4989\"],[0.3333333333333333,\"#31688e\"],[0.4444444444444444,\"#26828e\"],[0.5555555555555556,\"#1f9e89\"],[0.6666666666666666,\"#35b779\"],[0.7777777777777778,\"#6ece58\"],[0.8888888888888888,\"#b5de2b\"],[1.0,\"#fde725\"]],\"opacity\":0.8,\"size\":12},\"mode\":\"markers\",\"x\":[1,2,3,4,5],\"y\":[5,4,3,2,1],\"z\":[2,3,4,5,6],\"type\":\"scatter3d\"}],                        {\"template\":{\"data\":{\"histogram2dcontour\":[{\"type\":\"histogram2dcontour\",\"colorbar\":{\"outlinewidth\":0,\"ticks\":\"\"},\"colorscale\":[[0.0,\"#0d0887\"],[0.1111111111111111,\"#46039f\"],[0.2222222222222222,\"#7201a8\"],[0.3333333333333333,\"#9c179e\"],[0.4444444444444444,\"#bd3786\"],[0.5555555555555556,\"#d8576b\"],[0.6666666666666666,\"#ed7953\"],[0.7777777777777778,\"#fb9f3a\"],[0.8888888888888888,\"#fdca26\"],[1.0,\"#f0f921\"]]}],\"choropleth\":[{\"type\":\"choropleth\",\"colorbar\":{\"outlinewidth\":0,\"ticks\":\"\"}}],\"histogram2d\":[{\"type\":\"histogram2d\",\"colorbar\":{\"outlinewidth\":0,\"ticks\":\"\"},\"colorscale\":[[0.0,\"#0d0887\"],[0.1111111111111111,\"#46039f\"],[0.2222222222222222,\"#7201a8\"],[0.3333333333333333,\"#9c179e\"],[0.4444444444444444,\"#bd3786\"],[0.5555555555555556,\"#d8576b\"],[0.6666666666666666,\"#ed7953\"],[0.7777777777777778,\"#fb9f3a\"],[0.8888888888888888,\"#fdca26\"],[1.0,\"#f0f921\"]]}],\"heatmap\":[{\"type\":\"heatmap\",\"colorbar\":{\"outlinewidth\":0,\"ticks\":\"\"},\"colorscale\":[[0.0,\"#0d0887\"],[0.1111111111111111,\"#46039f\"],[0.2222222222222222,\"#7201a8\"],[0.3333333333333333,\"#9c179e\"],[0.4444444444444444,\"#bd3786\"],[0.5555555555555556,\"#d8576b\"],[0.6666666666666666,\"#ed7953\"],[0.7777777777777778,\"#fb9f3a\"],[0.8888888888888888,\"#fdca26\"],[1.0,\"#f0f921\"]]}],\"heatmapgl\":[{\"type\":\"heatmapgl\",\"colorbar\":{\"outlinewidth\":0,\"ticks\":\"\"},\"colorscale\":[[0.0,\"#0d0887\"],[0.1111111111111111,\"#46039f\"],[0.2222222222222222,\"#7201a8\"],[0.3333333333333333,\"#9c179e\"],[0.4444444444444444,\"#bd3786\"],[0.5555555555555556,\"#d8576b\"],[0.6666666666666666,\"#ed7953\"],[0.7777777777777778,\"#fb9f3a\"],[0.8888888888888888,\"#fdca26\"],[1.0,\"#f0f921\"]]}],\"contourcarpet\":[{\"type\":\"contourcarpet\",\"colorbar\":{\"outlinewidth\":0,\"ticks\":\"\"}}],\"contour\":[{\"type\":\"contour\",\"colorbar\":{\"outlinewidth\":0,\"ticks\":\"\"},\"colorscale\":[[0.0,\"#0d0887\"],[0.1111111111111111,\"#46039f\"],[0.2222222222222222,\"#7201a8\"],[0.3333333333333333,\"#9c179e\"],[0.4444444444444444,\"#bd3786\"],[0.5555555555555556,\"#d8576b\"],[0.6666666666666666,\"#ed7953\"],[0.7777777777777778,\"#fb9f3a\"],[0.8888888888888888,\"#fdca26\"],[1.0,\"#f0f921\"]]}],\"surface\":[{\"type\":\"surface\",\"colorbar\":{\"outlinewidth\":0,\"ticks\":\"\"},\"colorscale\":[[0.0,\"#0d0887\"],[0.1111111111111111,\"#46039f\"],[0.2222222222222222,\"#7201a8\"],[0.3333333333333333,\"#9c179e\"],[0.4444444444444444,\"#bd3786\"],[0.5555555555555556,\"#d8576b\"],[0.6666666666666666,\"#ed7953\"],[0.7777777777777778,\"#fb9f3a\"],[0.8888888888888888,\"#fdca26\"],[1.0,\"#f0f921\"]]}],\"mesh3d\":[{\"type\":\"mesh3d\",\"colorbar\":{\"outlinewidth\":0,\"ticks\":\"\"}}],\"scatter\":[{\"fillpattern\":{\"fillmode\":\"overlay\",\"size\":10,\"solidity\":0.2},\"type\":\"scatter\"}],\"parcoords\":[{\"type\":\"parcoords\",\"line\":{\"colorbar\":{\"outlinewidth\":0,\"ticks\":\"\"}}}],\"scatterpolargl\":[{\"type\":\"scatterpolargl\",\"marker\":{\"colorbar\":{\"outlinewidth\":0,\"ticks\":\"\"}}}],\"bar\":[{\"error_x\":{\"color\":\"#2a3f5f\"},\"error_y\":{\"color\":\"#2a3f5f\"},\"marker\":{\"line\":{\"color\":\"#E5ECF6\",\"width\":0.5},\"pattern\":{\"fillmode\":\"overlay\",\"size\":10,\"solidity\":0.2}},\"type\":\"bar\"}],\"scattergeo\":[{\"type\":\"scattergeo\",\"marker\":{\"colorbar\":{\"outlinewidth\":0,\"ticks\":\"\"}}}],\"scatterpolar\":[{\"type\":\"scatterpolar\",\"marker\":{\"colorbar\":{\"outlinewidth\":0,\"ticks\":\"\"}}}],\"histogram\":[{\"marker\":{\"pattern\":{\"fillmode\":\"overlay\",\"size\":10,\"solidity\":0.2}},\"type\":\"histogram\"}],\"scattergl\":[{\"type\":\"scattergl\",\"marker\":{\"colorbar\":{\"outlinewidth\":0,\"ticks\":\"\"}}}],\"scatter3d\":[{\"type\":\"scatter3d\",\"line\":{\"colorbar\":{\"outlinewidth\":0,\"ticks\":\"\"}},\"marker\":{\"colorbar\":{\"outlinewidth\":0,\"ticks\":\"\"}}}],\"scattermapbox\":[{\"type\":\"scattermapbox\",\"marker\":{\"colorbar\":{\"outlinewidth\":0,\"ticks\":\"\"}}}],\"scatterternary\":[{\"type\":\"scatterternary\",\"marker\":{\"colorbar\":{\"outlinewidth\":0,\"ticks\":\"\"}}}],\"scattercarpet\":[{\"type\":\"scattercarpet\",\"marker\":{\"colorbar\":{\"outlinewidth\":0,\"ticks\":\"\"}}}],\"carpet\":[{\"aaxis\":{\"endlinecolor\":\"#2a3f5f\",\"gridcolor\":\"white\",\"linecolor\":\"white\",\"minorgridcolor\":\"white\",\"startlinecolor\":\"#2a3f5f\"},\"baxis\":{\"endlinecolor\":\"#2a3f5f\",\"gridcolor\":\"white\",\"linecolor\":\"white\",\"minorgridcolor\":\"white\",\"startlinecolor\":\"#2a3f5f\"},\"type\":\"carpet\"}],\"table\":[{\"cells\":{\"fill\":{\"color\":\"#EBF0F8\"},\"line\":{\"color\":\"white\"}},\"header\":{\"fill\":{\"color\":\"#C8D4E3\"},\"line\":{\"color\":\"white\"}},\"type\":\"table\"}],\"barpolar\":[{\"marker\":{\"line\":{\"color\":\"#E5ECF6\",\"width\":0.5},\"pattern\":{\"fillmode\":\"overlay\",\"size\":10,\"solidity\":0.2}},\"type\":\"barpolar\"}],\"pie\":[{\"automargin\":true,\"type\":\"pie\"}]},\"layout\":{\"autotypenumbers\":\"strict\",\"colorway\":[\"#636efa\",\"#EF553B\",\"#00cc96\",\"#ab63fa\",\"#FFA15A\",\"#19d3f3\",\"#FF6692\",\"#B6E880\",\"#FF97FF\",\"#FECB52\"],\"font\":{\"color\":\"#2a3f5f\"},\"hovermode\":\"closest\",\"hoverlabel\":{\"align\":\"left\"},\"paper_bgcolor\":\"white\",\"plot_bgcolor\":\"#E5ECF6\",\"polar\":{\"bgcolor\":\"#E5ECF6\",\"angularaxis\":{\"gridcolor\":\"white\",\"linecolor\":\"white\",\"ticks\":\"\"},\"radialaxis\":{\"gridcolor\":\"white\",\"linecolor\":\"white\",\"ticks\":\"\"}},\"ternary\":{\"bgcolor\":\"#E5ECF6\",\"aaxis\":{\"gridcolor\":\"white\",\"linecolor\":\"white\",\"ticks\":\"\"},\"baxis\":{\"gridcolor\":\"white\",\"linecolor\":\"white\",\"ticks\":\"\"},\"caxis\":{\"gridcolor\":\"white\",\"linecolor\":\"white\",\"ticks\":\"\"}},\"coloraxis\":{\"colorbar\":{\"outlinewidth\":0,\"ticks\":\"\"}},\"colorscale\":{\"sequential\":[[0.0,\"#0d0887\"],[0.1111111111111111,\"#46039f\"],[0.2222222222222222,\"#7201a8\"],[0.3333333333333333,\"#9c179e\"],[0.4444444444444444,\"#bd3786\"],[0.5555555555555556,\"#d8576b\"],[0.6666666666666666,\"#ed7953\"],[0.7777777777777778,\"#fb9f3a\"],[0.8888888888888888,\"#fdca26\"],[1.0,\"#f0f921\"]],\"sequentialminus\":[[0.0,\"#0d0887\"],[0.1111111111111111,\"#46039f\"],[0.2222222222222222,\"#7201a8\"],[0.3333333333333333,\"#9c179e\"],[0.4444444444444444,\"#bd3786\"],[0.5555555555555556,\"#d8576b\"],[0.6666666666666666,\"#ed7953\"],[0.7777777777777778,\"#fb9f3a\"],[0.8888888888888888,\"#fdca26\"],[1.0,\"#f0f921\"]],\"diverging\":[[0,\"#8e0152\"],[0.1,\"#c51b7d\"],[0.2,\"#de77ae\"],[0.3,\"#f1b6da\"],[0.4,\"#fde0ef\"],[0.5,\"#f7f7f7\"],[0.6,\"#e6f5d0\"],[0.7,\"#b8e186\"],[0.8,\"#7fbc41\"],[0.9,\"#4d9221\"],[1,\"#276419\"]]},\"xaxis\":{\"gridcolor\":\"white\",\"linecolor\":\"white\",\"ticks\":\"\",\"title\":{\"standoff\":15},\"zerolinecolor\":\"white\",\"automargin\":true,\"zerolinewidth\":2},\"yaxis\":{\"gridcolor\":\"white\",\"linecolor\":\"white\",\"ticks\":\"\",\"title\":{\"standoff\":15},\"zerolinecolor\":\"white\",\"automargin\":true,\"zerolinewidth\":2},\"scene\":{\"xaxis\":{\"backgroundcolor\":\"#E5ECF6\",\"gridcolor\":\"white\",\"linecolor\":\"white\",\"showbackground\":true,\"ticks\":\"\",\"zerolinecolor\":\"white\",\"gridwidth\":2},\"yaxis\":{\"backgroundcolor\":\"#E5ECF6\",\"gridcolor\":\"white\",\"linecolor\":\"white\",\"showbackground\":true,\"ticks\":\"\",\"zerolinecolor\":\"white\",\"gridwidth\":2},\"zaxis\":{\"backgroundcolor\":\"#E5ECF6\",\"gridcolor\":\"white\",\"linecolor\":\"white\",\"showbackground\":true,\"ticks\":\"\",\"zerolinecolor\":\"white\",\"gridwidth\":2}},\"shapedefaults\":{\"line\":{\"color\":\"#2a3f5f\"}},\"annotationdefaults\":{\"arrowcolor\":\"#2a3f5f\",\"arrowhead\":0,\"arrowwidth\":1},\"geo\":{\"bgcolor\":\"white\",\"landcolor\":\"#E5ECF6\",\"subunitcolor\":\"white\",\"showland\":true,\"showlakes\":true,\"lakecolor\":\"white\"},\"title\":{\"x\":0.05},\"mapbox\":{\"style\":\"light\"}}},\"title\":{\"text\":\"3D Scatter Plot\"},\"scene\":{\"xaxis\":{\"title\":{\"text\":\"X Axis\"}},\"yaxis\":{\"title\":{\"text\":\"Y Axis\"}},\"zaxis\":{\"title\":{\"text\":\"Z Axis\"}}}},                        {\"responsive\": true}                    ).then(function(){\n",
              "                            \n",
              "var gd = document.getElementById('9c8ddfc6-ab63-411a-92fd-771400550634');\n",
              "var x = new MutationObserver(function (mutations, observer) {{\n",
              "        var display = window.getComputedStyle(gd).display;\n",
              "        if (!display || display === 'none') {{\n",
              "            console.log([gd, 'removed!']);\n",
              "            Plotly.purge(gd);\n",
              "            observer.disconnect();\n",
              "        }}\n",
              "}});\n",
              "\n",
              "// Listen for the removal of the full notebook cells\n",
              "var notebookContainer = gd.closest('#notebook-container');\n",
              "if (notebookContainer) {{\n",
              "    x.observe(notebookContainer, {childList: true});\n",
              "}}\n",
              "\n",
              "// Listen for the clearing of the current output cell\n",
              "var outputEl = gd.closest('.output');\n",
              "if (outputEl) {{\n",
              "    x.observe(outputEl, {childList: true});\n",
              "}}\n",
              "\n",
              "                        })                };                            </script>        </div>\n",
              "</body>\n",
              "</html>"
            ]
          },
          "metadata": {}
        }
      ]
    }
  ]
}